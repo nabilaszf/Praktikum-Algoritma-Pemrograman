{
  "nbformat": 4,
  "nbformat_minor": 0,
  "metadata": {
    "colab": {
      "provenance": [],
      "authorship_tag": "ABX9TyOwboiulCRTK/59Qpr+pNfB",
      "include_colab_link": true
    },
    "kernelspec": {
      "name": "python3",
      "display_name": "Python 3"
    },
    "language_info": {
      "name": "python"
    }
  },
  "cells": [
    {
      "cell_type": "markdown",
      "metadata": {
        "id": "view-in-github",
        "colab_type": "text"
      },
      "source": [
        "<a href=\"https://colab.research.google.com/github/nabilaszf/project-01/blob/main/Python%20Week%2010.ipynb\" target=\"_parent\"><img src=\"https://colab.research.google.com/assets/colab-badge.svg\" alt=\"Open In Colab\"/></a>"
      ]
    },
    {
      "cell_type": "markdown",
      "source": [
        "#**Python Function**"
      ],
      "metadata": {
        "id": "QWO_O4etj9op"
      }
    },
    {
      "cell_type": "code",
      "execution_count": null,
      "metadata": {
        "colab": {
          "base_uri": "https://localhost:8080/"
        },
        "id": "iqqwP5fZjlXf",
        "outputId": "5576d64a-f0df-4150-c391-9bc900c321bd"
      },
      "outputs": [
        {
          "output_type": "stream",
          "name": "stdout",
          "text": [
            "Halo, dari fungsiku\n"
          ]
        }
      ],
      "source": [
        "# Membuat dan Memanggil Fungsi\n",
        "\n",
        "def fungsiku():\n",
        "  print(\"Halo, dari fungsiku\")\n",
        "\n",
        "fungsiku()"
      ]
    },
    {
      "cell_type": "code",
      "source": [
        "# Argumen\n",
        "\n",
        "def fungsiku(fname):\n",
        "  print(fname + \"Sitohang\")\n",
        "\n",
        "  fungsiku(\"Andi\")\n",
        "  fungsiku(\"Budi\")\n",
        "  fungsiku(\"Cindy\")"
      ],
      "metadata": {
        "id": "ei59EPe6kh_y"
      },
      "execution_count": null,
      "outputs": []
    },
    {
      "cell_type": "code",
      "source": [
        "# Fungsi dengan dua argumen\n",
        "\n",
        "def fungsiku(fname, lname):\n",
        "  print(fname + \" \" + lname)\n",
        "\n",
        "  fungsiku(\"Andi\", \"Sitohang\")"
      ],
      "metadata": {
        "id": "ayHtCLaAk1ha"
      },
      "execution_count": null,
      "outputs": []
    },
    {
      "cell_type": "code",
      "source": [
        "# If the number of arguments is unkmowm, add a * before the parameter name:\n",
        "\n",
        "def fungsiku(*kids):\n",
        "  print(\"The youngest child is \" + kids[2])\n",
        "\n",
        "  fungsiku(\"Emil\", \"Tobias\", \"Linus\")"
      ],
      "metadata": {
        "id": "rILNOL9RlRGJ"
      },
      "execution_count": null,
      "outputs": []
    },
    {
      "cell_type": "code",
      "source": [
        "# Argumen juga tapi pakai keyword\n",
        "\n",
        "def fungsiku(anak3, anak2, anak1):\n",
        "  print(\"The youngest child is \" + anak3)\n",
        "\n",
        "  fungsiku(anak1 = \"Emil\", anak2 = \"Tobias\", anak3 = \"Linus\")"
      ],
      "metadata": {
        "id": "QGGhoLcDlq3y"
      },
      "execution_count": null,
      "outputs": []
    },
    {
      "cell_type": "code",
      "source": [
        "# Kalau nomor keyword argumennya tidak diketahui, add a double * (**) sebelum nama parameter\n",
        "\n",
        "def fungsiku(**anak):\n",
        "  print(\"His last name is \" + anak[\"lname\"])\n",
        "\n",
        "  fungsiku(fname = \"Tobias\", lname = \"Refsnes\")"
      ],
      "metadata": {
        "id": "VMA7XQQkmvP7"
      },
      "execution_count": null,
      "outputs": []
    },
    {
      "cell_type": "code",
      "source": [
        "def fungsiku(country = \"Norway\"):\n",
        "  print(\"I am from \" + country)\n",
        "\n",
        "  fungsiku(\"Sweden\")\n",
        "  fungsiku(\"India\")\n",
        "  fungsiku()\n",
        "  fungsiku(\"Brazil\")"
      ],
      "metadata": {
        "id": "mgu4SIAOnQj6"
      },
      "execution_count": null,
      "outputs": []
    },
    {
      "cell_type": "code",
      "source": [
        "def fungsiku(food):\n",
        "  for x in food:\n",
        "    print(x)\n",
        "\n",
        "  fungsiku([\"apel\", \"jeruk\", \"mangga\"])\n",
        "\n",
        "  fungsiku((\"apel\", \"jeruk\", \"mangga\"))"
      ],
      "metadata": {
        "id": "MvYgWInqnUva"
      },
      "execution_count": null,
      "outputs": []
    },
    {
      "cell_type": "code",
      "source": [
        "def fungsiku(x):\n",
        "  return 5 * x\n",
        "\n",
        "  print(fungsiku(3))\n",
        "  print(fungsiku(5))\n",
        "  print(fungsiku(9))"
      ],
      "metadata": {
        "id": "KZYbXXqmnXE6"
      },
      "execution_count": null,
      "outputs": []
    },
    {
      "cell_type": "code",
      "source": [
        "def fungsiku(nama):\n",
        "  pass"
      ],
      "metadata": {
        "id": "gQlrhtRFnbXK"
      },
      "execution_count": null,
      "outputs": []
    },
    {
      "cell_type": "code",
      "source": [
        "# Contoh Rekursi\n",
        "def tri_recursion(k):\n",
        "  if(k > 0):\n",
        "    result = k + tri_recursion(k - 1)\n",
        "    print(result)\n",
        "  else:\n",
        "    result = 0\n",
        "  return result\n",
        "print(\"\\n\\nRecursion Example Results\")\n",
        "tri_recursion(1)"
      ],
      "metadata": {
        "colab": {
          "base_uri": "https://localhost:8080/"
        },
        "id": "_Dlrc2AUneUB",
        "outputId": "97476b56-eb26-483c-e4e6-2f8ae335b89a"
      },
      "execution_count": null,
      "outputs": [
        {
          "output_type": "stream",
          "name": "stdout",
          "text": [
            "\n",
            "\n",
            "Recursion Example Results\n",
            "1\n"
          ]
        },
        {
          "output_type": "execute_result",
          "data": {
            "text/plain": [
              "1"
            ]
          },
          "metadata": {},
          "execution_count": 18
        }
      ]
    },
    {
      "cell_type": "code",
      "source": [
        "# Weekly Exercise 1\n",
        "\n",
        "def faktorial(n):\n",
        "  if n == 0:\n",
        "    return 1\n",
        "  else:\n",
        "    return n * faktorial(n-1)\n",
        "\n",
        "angka = int(input(\"Masukkan bilangan bulat: \"))\n",
        "while angka < 0:\n",
        "  print(\"Harap masukkan bilangan bulat positif.\")\n",
        "  angka = int(input(\"Masukkan bilangan bulat: \"))\n",
        "\n",
        "hasil = faktorial(angka)\n",
        "print(\"Faktorial dari\", angka, \"adalah\", hasil)"
      ],
      "metadata": {
        "id": "mYvAbBL8vVr0",
        "colab": {
          "base_uri": "https://localhost:8080/"
        },
        "outputId": "ce6092a2-aae7-4c8d-e3f3-e26244d4b0f2"
      },
      "execution_count": null,
      "outputs": [
        {
          "output_type": "stream",
          "name": "stdout",
          "text": [
            "Masukkan bilangan bulat: -5\n",
            "Harap masukkan bilangan bulat positif.\n",
            "Masukkan bilangan bulat: 5\n",
            "Faktorial dari 5 adalah 120\n"
          ]
        }
      ]
    },
    {
      "cell_type": "code",
      "source": [
        "# Weekly Exercise 2\n",
        "\n",
        "def luas_lingkaran(jari_jari):\n",
        "  return 3.14 * jari_jari * jari_jari\n",
        "\n",
        "def luas_persegi(sisi):\n",
        "  return sisi * sisi\n",
        "\n",
        "def luas_segitiga(alas, tinggi):\n",
        "  return 0.5 * alas * tinggi\n",
        "\n",
        "def main():\n",
        "  while True:\n",
        "    print(\" \")\n",
        "    print(\"Kalkulator Penghitung Luas Bangun Datar\")\n",
        "    print(\"Pilih bangun datar yang ingin dihitung:\")\n",
        "    print(\"1. Lingkaran\")\n",
        "    print(\"2. Persegi\")\n",
        "    print(\"3. Segitiga\")\n",
        "    print(\"4. Keluar\")\n",
        "    print(\" \")\n",
        "\n",
        "    pickle = input(\"Masukkan pilihan (1/2/3/4): \")\n",
        "\n",
        "    if pickle == '1':\n",
        "      jari_jari = float(input(\"Masukkan jari-jari lingkaran: \"))\n",
        "      luas = luas_lingkaran(jari_jari)\n",
        "      print(\"Luas lingkaran adalah:\", luas)\n",
        "\n",
        "    elif pickle == '2':\n",
        "      sisi = float(input(\"Masukkan sisi persegi: \"))\n",
        "      luas = luas_persegi(sisi)\n",
        "      print(\"Luas persegi adalah:\", luas)\n",
        "\n",
        "    elif pickle == '3':\n",
        "      alas = float(input(\"Masukkan alas segitiga: \"))\n",
        "      tinggi = float(input(\"Masukkan tinggi segitiga: \"))\n",
        "      print(\"Luas segitiga adalah:\", luas_segitiga(alas, tinggi))\n",
        "\n",
        "    elif pickle == '4':\n",
        "      print(\"Terima kasih! Program selesai.\")\n",
        "      break\n",
        "\n",
        "    else:\n",
        "      print(\"Pilihan tidak valid. Silakan coba lagi.\")\n",
        "\n",
        "if __name__ == \"__main__\":\n",
        "  main()\n"
      ],
      "metadata": {
        "colab": {
          "base_uri": "https://localhost:8080/"
        },
        "id": "OETjupt5tdvp",
        "outputId": "d8abc2a3-96d4-45b8-b41c-fae0f9e099a9"
      },
      "execution_count": null,
      "outputs": [
        {
          "output_type": "stream",
          "name": "stdout",
          "text": [
            " \n",
            "Kalkulator Penghitung Luas Bangun Datar\n",
            "Pilih bangun datar yang ingin dihitung:\n",
            "1. Lingkaran\n",
            "2. Persegi\n",
            "3. Segitiga\n",
            "4. Keluar\n",
            " \n",
            "Masukkan pilihan (1/2/3/4): 2\n",
            "Masukkan sisi persegi: 17\n",
            "Luas persegi adalah: 289.0\n",
            " \n",
            "Kalkulator Penghitung Luas Bangun Datar\n",
            "Pilih bangun datar yang ingin dihitung:\n",
            "1. Lingkaran\n",
            "2. Persegi\n",
            "3. Segitiga\n",
            "4. Keluar\n",
            " \n",
            "Masukkan pilihan (1/2/3/4): 4\n",
            "Terima kasih! Program selesai.\n"
          ]
        }
      ]
    },
    {
      "cell_type": "code",
      "source": [],
      "metadata": {
        "id": "QeYS6uu1xil6"
      },
      "execution_count": null,
      "outputs": []
    }
  ]
}