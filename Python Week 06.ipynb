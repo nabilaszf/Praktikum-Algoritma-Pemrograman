{
  "nbformat": 4,
  "nbformat_minor": 0,
  "metadata": {
    "colab": {
      "provenance": [],
      "authorship_tag": "ABX9TyMyFRNuXarGhxro2V9vqQZJ",
      "include_colab_link": true
    },
    "kernelspec": {
      "name": "python3",
      "display_name": "Python 3"
    },
    "language_info": {
      "name": "python"
    }
  },
  "cells": [
    {
      "cell_type": "markdown",
      "metadata": {
        "id": "view-in-github",
        "colab_type": "text"
      },
      "source": [
        "<a href=\"https://colab.research.google.com/github/nabilaszf/project-01/blob/main/Python%20Week%2006.ipynb\" target=\"_parent\"><img src=\"https://colab.research.google.com/assets/colab-badge.svg\" alt=\"Open In Colab\"/></a>"
      ]
    },
    {
      "cell_type": "markdown",
      "source": [
        "# Loops in Python"
      ],
      "metadata": {
        "id": "TySbv7Tfam3F"
      }
    },
    {
      "cell_type": "code",
      "source": [
        "# Contoh penggunaan for loop\n",
        "\n",
        "tahun = [2001, 2005, 2006]\n",
        "n = len(tahun)\n",
        "\n",
        "for i in range(n):\n",
        "    print(tahun[i])"
      ],
      "metadata": {
        "colab": {
          "base_uri": "https://localhost:8080/"
        },
        "id": "ybdGC0sAa2vc",
        "outputId": "3ff4ec18-1bed-4c59-cb46-cccb71de67fb"
      },
      "execution_count": null,
      "outputs": [
        {
          "output_type": "stream",
          "name": "stdout",
          "text": [
            "2001\n",
            "2005\n",
            "2006\n"
          ]
        }
      ]
    },
    {
      "cell_type": "code",
      "source": [
        "# Example for Loop\n",
        "\n",
        "for i in range(-5, 7):\n",
        "    print(i)"
      ],
      "metadata": {
        "colab": {
          "base_uri": "https://localhost:8080/"
        },
        "id": "ZGPmz6RNbWIh",
        "outputId": "74f4d42d-0d7c-4de3-dad3-054e36aaf816"
      },
      "execution_count": null,
      "outputs": [
        {
          "output_type": "stream",
          "name": "stdout",
          "text": [
            "-5\n",
            "-4\n",
            "-3\n",
            "-2\n",
            "-1\n",
            "0\n",
            "1\n",
            "2\n",
            "3\n",
            "4\n",
            "5\n",
            "6\n"
          ]
        }
      ]
    },
    {
      "cell_type": "code",
      "source": [
        "# Example of for loop, loop through list\n",
        "\n",
        "for year in tahun:\n",
        "    print(year)"
      ],
      "metadata": {
        "colab": {
          "base_uri": "https://localhost:8080/"
        },
        "id": "dn7Xxu_SbmJR",
        "outputId": "132684ec-fa0c-41ad-ba18-6f49eededd7a"
      },
      "execution_count": null,
      "outputs": [
        {
          "output_type": "stream",
          "name": "stdout",
          "text": [
            "2001\n",
            "2005\n",
            "2006\n"
          ]
        }
      ]
    },
    {
      "cell_type": "code",
      "source": [
        "# Use for loop to change the elements in list\n",
        "\n",
        "kotak = [\"merah\", \"kuning\", \"biru\", \"hijau\"]\n",
        "\n",
        "for i in range(0, len(kotak)):\n",
        "    print(\"Before square\", i, \"is\", kotak[i])\n",
        "    kotak[i] = \"abu-abu\"\n",
        "    print(\"After square\", i, \"is\", kotak[i])\n",
        "\n"
      ],
      "metadata": {
        "colab": {
          "base_uri": "https://localhost:8080/"
        },
        "id": "KcLYSoRBbvDD",
        "outputId": "0090f61f-805d-421d-c678-8f98579f40e9"
      },
      "execution_count": null,
      "outputs": [
        {
          "output_type": "stream",
          "name": "stdout",
          "text": [
            "Before square 0 is merah\n",
            "After square 0 is abu-abu\n",
            "Before square 1 is kuning\n",
            "After square 1 is abu-abu\n",
            "Before square 2 is biru\n",
            "After square 2 is abu-abu\n",
            "Before square 3 is hijau\n",
            "After square 3 is abu-abu\n"
          ]
        }
      ]
    },
    {
      "cell_type": "code",
      "source": [
        "# Loop through the list and iterate on both index and element value\n",
        "\n",
        "kotak = [\"merah\", \"kuning\", \"biru\", \"hijau\"]\n",
        "\n",
        "for i, kotak in enumerate(kotak):\n",
        "    print(i, kotak)"
      ],
      "metadata": {
        "colab": {
          "base_uri": "https://localhost:8080/"
        },
        "id": "NUnfxdDpbu_g",
        "outputId": "44e117a9-f9e8-4a67-be78-1f3a2be340b7"
      },
      "execution_count": null,
      "outputs": [
        {
          "output_type": "stream",
          "name": "stdout",
          "text": [
            "0 merah\n",
            "1 kuning\n",
            "2 biru\n",
            "3 hijau\n"
          ]
        }
      ]
    },
    {
      "cell_type": "code",
      "source": [
        "# While Loop Example\n",
        "\n",
        "tahun = [2001, 2005, 2006]\n",
        "i = 0\n",
        "year = 0\n",
        "\n",
        "while(year != 2006):\n",
        "    year = tahun[i]\n",
        "    i = i + 1\n",
        "    print(year)\n",
        "\n",
        "print(\"It took\", i , \"repetitions to get out of loop.\")"
      ],
      "metadata": {
        "colab": {
          "base_uri": "https://localhost:8080/"
        },
        "id": "9_3JSDrnbu9S",
        "outputId": "58a0c537-bc23-4cef-ce12-ce65c3b914a4"
      },
      "execution_count": null,
      "outputs": [
        {
          "output_type": "stream",
          "name": "stdout",
          "text": [
            "2001\n",
            "2005\n",
            "2006\n",
            "It took 3 repetitions to get out of loop.\n"
          ]
        }
      ]
    },
    {
      "cell_type": "code",
      "source": [
        "# Nested Loop\n",
        "for i in range(1, 11):\n",
        "  for j in range(1, 11):\n",
        "    print(i * j, end=' ')\n",
        "  print()"
      ],
      "metadata": {
        "colab": {
          "base_uri": "https://localhost:8080/"
        },
        "id": "9SYB6-d7bu60",
        "outputId": "c2f52473-d656-4cf3-ed4e-4f8b9283af1b"
      },
      "execution_count": null,
      "outputs": [
        {
          "output_type": "stream",
          "name": "stdout",
          "text": [
            "1 2 3 4 5 6 7 8 9 10 \n",
            "2 4 6 8 10 12 14 16 18 20 \n",
            "3 6 9 12 15 18 21 24 27 30 \n",
            "4 8 12 16 20 24 28 32 36 40 \n",
            "5 10 15 20 25 30 35 40 45 50 \n",
            "6 12 18 24 30 36 42 48 54 60 \n",
            "7 14 21 28 35 42 49 56 63 70 \n",
            "8 16 24 32 40 48 56 64 72 80 \n",
            "9 18 27 36 45 54 63 72 81 90 \n",
            "10 20 30 40 50 60 70 80 90 100 \n"
          ]
        }
      ]
    },
    {
      "cell_type": "code",
      "source": [
        "# While Loop Inside a For Loop\n",
        "nama = ['Bila', 'Javi', 'Altaaf']\n",
        "for nama in nama:\n",
        "  count = 0\n",
        "  while count < 5:\n",
        "    print(nama, end=' ')\n",
        "    count = count + 1\n",
        "  print()"
      ],
      "metadata": {
        "colab": {
          "base_uri": "https://localhost:8080/"
        },
        "id": "UG_0dDJnbu4W",
        "outputId": "f2eb8fdd-27bc-4453-8a52-557239cb0ee2"
      },
      "execution_count": null,
      "outputs": [
        {
          "output_type": "stream",
          "name": "stdout",
          "text": [
            "Bila Bila Bila Bila Bila \n",
            "Javi Javi Javi Javi Javi \n",
            "Altaaf Altaaf Altaaf Altaaf Altaaf \n"
          ]
        }
      ]
    },
    {
      "cell_type": "code",
      "source": [
        "# Break Nested Loop\n",
        "for i in range(5):\n",
        "  for j in range(5):\n",
        "    if j == i:\n",
        "      break\n",
        "    print(i, j)"
      ],
      "metadata": {
        "colab": {
          "base_uri": "https://localhost:8080/"
        },
        "id": "vr-B2lkBbuuB",
        "outputId": "0ece7880-674f-4068-d147-40c4d9c8c21f"
      },
      "execution_count": null,
      "outputs": [
        {
          "output_type": "stream",
          "name": "stdout",
          "text": [
            "1 0\n",
            "2 0\n",
            "2 1\n",
            "3 0\n",
            "3 1\n",
            "3 2\n",
            "4 0\n",
            "4 1\n",
            "4 2\n",
            "4 3\n"
          ]
        }
      ]
    },
    {
      "cell_type": "code",
      "source": [
        "# Continue Nested Loop\n",
        "satu = [1, 2, 3]\n",
        "dua = [2, 3, 4]\n",
        "for i in satu:\n",
        "  for j in dua:\n",
        "    if i == j:\n",
        "      continue\n",
        "    print(i, '*', j, '=', i * j)"
      ],
      "metadata": {
        "colab": {
          "base_uri": "https://localhost:8080/"
        },
        "id": "A-4W2tqKdtU6",
        "outputId": "4a814908-0224-4447-f4dd-edfc98c295b4"
      },
      "execution_count": null,
      "outputs": [
        {
          "output_type": "stream",
          "name": "stdout",
          "text": [
            "1 * 2 = 2\n",
            "1 * 3 = 3\n",
            "1 * 4 = 4\n",
            "2 * 3 = 6\n",
            "2 * 4 = 8\n",
            "3 * 2 = 6\n",
            "3 * 4 = 12\n"
          ]
        }
      ]
    },
    {
      "cell_type": "code",
      "source": [
        "# Nested While Loop\n",
        "i = 1\n",
        "while i <= 5:\n",
        "  j = 1\n",
        "  while j <= 10:\n",
        "    print(j, end='')\n",
        "    j = j + 1\n",
        "  i = i + 1\n",
        "  print()"
      ],
      "metadata": {
        "colab": {
          "base_uri": "https://localhost:8080/"
        },
        "id": "nEal2h_hdtRc",
        "outputId": "8d7cc4b6-ea94-4763-e2c4-35041b16ae51"
      },
      "execution_count": null,
      "outputs": [
        {
          "output_type": "stream",
          "name": "stdout",
          "text": [
            "12345678910\n",
            "12345678910\n",
            "12345678910\n",
            "12345678910\n",
            "12345678910\n"
          ]
        }
      ]
    },
    {
      "cell_type": "code",
      "source": [
        "# For Loop Inside While Loop\n",
        "\n",
        "print(\"Show perfect number from 1 to 100\")\n",
        "n = 2\n",
        "while n <= 100:\n",
        "  x_sum = 0\n",
        "  for i in range(1, n):\n",
        "    if n % i == 0:\n",
        "      x_sum += i\n",
        "  if x_sum == n:\n",
        "    print(str(n) + \" is a perfect number\")\n",
        "  n += 1"
      ],
      "metadata": {
        "colab": {
          "base_uri": "https://localhost:8080/"
        },
        "id": "BBzeW1t3dqrZ",
        "outputId": "f4e5aa25-5280-49a6-84d3-3d5f779bcdc2"
      },
      "execution_count": null,
      "outputs": [
        {
          "output_type": "stream",
          "name": "stdout",
          "text": [
            "Show perfect number from 1 to 100\n",
            "6 is a perfect number\n",
            "28 is a perfect number\n"
          ]
        }
      ]
    },
    {
      "cell_type": "markdown",
      "source": [
        "### Weekly Exercise 1"
      ],
      "metadata": {
        "id": "KjiNBLf-Z5KV"
      }
    },
    {
      "cell_type": "code",
      "source": [
        "jumlah_baris = int(input(\"Masukkan jumlah baris: \"))\n",
        "\n",
        "if jumlah_baris > 0:\n",
        "    for i in range(1, jumlah_baris + 1):\n",
        "      # spasi untuk mengatur posisi\n",
        "        for j in range(jumlah_baris - i):\n",
        "            print(\" \", end=\"\")\n",
        "\n",
        "        # untuk mencetak bintang\n",
        "        for k in range(i):\n",
        "            print(\"*\", end=\" \")\n",
        "\n",
        "        # pindah ke baris baru\n",
        "        print()\n",
        "else:\n",
        "    print(\"Masukkan bilangan bulat positif.\")"
      ],
      "metadata": {
        "colab": {
          "base_uri": "https://localhost:8080/"
        },
        "id": "x9jFwnY3Roxa",
        "outputId": "2b751683-3fa8-463d-dc27-041d49078e21"
      },
      "execution_count": 2,
      "outputs": [
        {
          "output_type": "stream",
          "name": "stdout",
          "text": [
            "Masukkan jumlah baris: 9\n",
            "        * \n",
            "       * * \n",
            "      * * * \n",
            "     * * * * \n",
            "    * * * * * \n",
            "   * * * * * * \n",
            "  * * * * * * * \n",
            " * * * * * * * * \n",
            "* * * * * * * * * \n"
          ]
        }
      ]
    },
    {
      "cell_type": "markdown",
      "source": [
        "### Weekly Exercise 2"
      ],
      "metadata": {
        "id": "FsnmaRvdgMQX"
      }
    },
    {
      "cell_type": "code",
      "source": [
        "jumlah_baris = int(input(\"Masukkan jumlah baris: \"))\n",
        "\n",
        "# Validasi input\n",
        "if jumlah_baris > 0:\n",
        "  for i in range(jumlah_baris):\n",
        "      # Spasi untuk mengatur posisi segitiga\n",
        "      for k in range(jumlah_baris - i + 1):\n",
        "          print(end=\" \")\n",
        "\n",
        "      # Menghitung elemen pada setiap baris\n",
        "      for j in range(i + 1):\n",
        "          # nCr = n! / (r! * (n - r)!)\n",
        "          elemen = 1\n",
        "          for l in range(1, j + 1):\n",
        "              elemen = elemen * (i - l + 1) // l\n",
        "          print(elemen, end=\" \")\n",
        "\n",
        "      # Pindah ke baris baru setelah setiap baris selesai\n",
        "      print()\n",
        "else:\n",
        "    print(\"Masukkan bilangan bulat positif.\")"
      ],
      "metadata": {
        "colab": {
          "base_uri": "https://localhost:8080/"
        },
        "id": "QO8kJKZxSux4",
        "outputId": "f37283cf-09e8-4587-c906-df8e595423e2"
      },
      "execution_count": 6,
      "outputs": [
        {
          "output_type": "stream",
          "name": "stdout",
          "text": [
            "Masukkan jumlah baris: 4\n",
            "     1 \n",
            "    1 1 \n",
            "   1 2 1 \n",
            "  1 3 3 1 \n"
          ]
        }
      ]
    },
    {
      "cell_type": "markdown",
      "source": [
        "### Weekly Exercise 3"
      ],
      "metadata": {
        "id": "zjxbCICeggDU"
      }
    },
    {
      "cell_type": "code",
      "source": [
        "jumlah_baris = int(input(\"Masukkan jumlah baris: \"))\n",
        "\n",
        "# Validasi input\n",
        "if jumlah_baris <= 0:\n",
        "    print(\"Masukkan bilangan bulat positif.\")\n",
        "else:\n",
        "    baris_sekarang = 0\n",
        "    angka_sebelumnya = 1  # Angka pertama pada setiap baris selalu 1\n",
        "    jumlah_angka = 0\n",
        "\n",
        "    while baris_sekarang < jumlah_baris:\n",
        "        angka_sekarang = 1  # Angka pertama pada baris ini\n",
        "        jumlah_angka += angka_sekarang  # Tambahkan angka pertama ke jumlah\n",
        "\n",
        "        # Menghitung dan mencetak angka-angka selanjutnya pada baris ini\n",
        "        j = 0\n",
        "        while j < baris_sekarang:\n",
        "            angka_sekarang = angka_sekarang * (baris_sekarang - j) // (j + 1)\n",
        "            jumlah_angka += angka_sekarang\n",
        "            j += 1\n",
        "\n",
        "        baris_sekarang += 1\n",
        "\n",
        "    print(f\"Jumlah angka pada baris ke-{jumlah_baris}: {jumlah_angka}\")"
      ],
      "metadata": {
        "colab": {
          "base_uri": "https://localhost:8080/"
        },
        "id": "iLzGcIPlSz-N",
        "outputId": "05e7afe3-e019-4ffe-be3a-8b1ba7bbdb80"
      },
      "execution_count": 8,
      "outputs": [
        {
          "output_type": "stream",
          "name": "stdout",
          "text": [
            "Masukkan jumlah baris: 11\n",
            "Jumlah angka pada baris ke-11: 2047\n"
          ]
        }
      ]
    },
    {
      "cell_type": "code",
      "source": [],
      "metadata": {
        "id": "eZ6zIiEchk7u"
      },
      "execution_count": null,
      "outputs": []
    }
  ]
}