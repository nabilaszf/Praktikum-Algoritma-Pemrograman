{
  "nbformat": 4,
  "nbformat_minor": 0,
  "metadata": {
    "colab": {
      "provenance": [],
      "authorship_tag": "ABX9TyMHsN+Czum1pxFh79kzD3sX",
      "include_colab_link": true
    },
    "kernelspec": {
      "name": "python3",
      "display_name": "Python 3"
    },
    "language_info": {
      "name": "python"
    }
  },
  "cells": [
    {
      "cell_type": "markdown",
      "metadata": {
        "id": "view-in-github",
        "colab_type": "text"
      },
      "source": [
        "<a href=\"https://colab.research.google.com/github/nabilaszf/project-01/blob/main/Phyton%20Week%2003.ipynb\" target=\"_parent\"><img src=\"https://colab.research.google.com/assets/colab-badge.svg\" alt=\"Open In Colab\"/></a>"
      ]
    },
    {
      "cell_type": "markdown",
      "source": [
        "## Basic Output in Python"
      ],
      "metadata": {
        "id": "S3i_Rh8THbW9"
      }
    },
    {
      "cell_type": "code",
      "execution_count": null,
      "metadata": {
        "colab": {
          "base_uri": "https://localhost:8080/"
        },
        "id": "Epo2mRmlOEbk",
        "outputId": "9aac2277-0d86-4dff-d5a3-26b2e13d6f41"
      },
      "outputs": [
        {
          "output_type": "stream",
          "name": "stdout",
          "text": [
            "Python is awesome\n"
          ]
        }
      ],
      "source": [
        "# Use the print() function to print output\n",
        "\n",
        "print('Python is awesome')"
      ]
    },
    {
      "cell_type": "code",
      "source": [
        "print('Good Evening!')\n",
        "print('It is cloudy today.')"
      ],
      "metadata": {
        "colab": {
          "base_uri": "https://localhost:8080/"
        },
        "id": "C69rRjGtO8d0",
        "outputId": "c38cbac8-49c0-46c9-8d43-e90fea68d383"
      },
      "execution_count": null,
      "outputs": [
        {
          "output_type": "stream",
          "name": "stdout",
          "text": [
            "Good Evening!\n",
            "It is cloudy today.\n"
          ]
        }
      ]
    },
    {
      "cell_type": "code",
      "source": [
        "# Print with end whitespace\n",
        "\n",
        "print('Good Evening!', end = ' ')\n",
        "print('It is cloudy today.')"
      ],
      "metadata": {
        "colab": {
          "base_uri": "https://localhost:8080/"
        },
        "id": "tWOAyN__R8oc",
        "outputId": "0a9be105-bf18-45b5-ef86-d9c89ff384aa"
      },
      "execution_count": null,
      "outputs": [
        {
          "output_type": "stream",
          "name": "stdout",
          "text": [
            "Good Evening! It is cloudy today.\n"
          ]
        }
      ]
    },
    {
      "cell_type": "code",
      "source": [
        "print('New Month', 'September 2024', 'See you guys very soon!', sep = '. ')"
      ],
      "metadata": {
        "colab": {
          "base_uri": "https://localhost:8080/"
        },
        "id": "Yp-b9D_HSL_W",
        "outputId": "57930366-0506-49a0-f596-ce7d9cf5909e"
      },
      "execution_count": null,
      "outputs": [
        {
          "output_type": "stream",
          "name": "stdout",
          "text": [
            "New Month. September 2024. See you guys very soon!\n"
          ]
        }
      ]
    },
    {
      "cell_type": "code",
      "source": [
        "# Cetak Variabel\n",
        "\n",
        "instansi = \"Universitas Tidar\"\n",
        "prodi = \"S-1 Teknologi Informasi\"\n",
        "\n",
        "print(instansi)\n",
        "print(prodi)\n"
      ],
      "metadata": {
        "colab": {
          "base_uri": "https://localhost:8080/"
        },
        "id": "yjYTFslQSkMR",
        "outputId": "3c2a268b-d4be-44bc-fca7-9297ee0b7dad"
      },
      "execution_count": null,
      "outputs": [
        {
          "output_type": "stream",
          "name": "stdout",
          "text": [
            "Universitas Tidar\n",
            "S-1 Teknologi Informasi\n"
          ]
        }
      ]
    },
    {
      "cell_type": "code",
      "source": [
        "# Cetak Literal\n",
        "print(2023)\n"
      ],
      "metadata": {
        "id": "u2rakzMBhKq7",
        "outputId": "98513388-415c-4ab3-b851-37c2f03bb489",
        "colab": {
          "base_uri": "https://localhost:8080/"
        }
      },
      "execution_count": null,
      "outputs": [
        {
          "output_type": "stream",
          "name": "stdout",
          "text": [
            "2023\n"
          ]
        }
      ]
    },
    {
      "cell_type": "code",
      "source": [
        "# Print Concatenated Strings\n",
        "\n",
        "print('S-1 Teknologi Informasi ' + 'Universitas Tidar')"
      ],
      "metadata": {
        "colab": {
          "base_uri": "https://localhost:8080/"
        },
        "id": "wIs5dfyKTKmU",
        "outputId": "1eae570d-f52b-485f-9a42-9b7400992e1f"
      },
      "execution_count": null,
      "outputs": [
        {
          "output_type": "stream",
          "name": "stdout",
          "text": [
            "S-1 Teknologi Informasi Universitas Tidar\n"
          ]
        }
      ]
    },
    {
      "cell_type": "code",
      "source": [
        "# Output Formating\n",
        "\n",
        "x = 8\n",
        "y = 10\n",
        "\n",
        "print('The value of x is {} and y is {}'. format(x,y))"
      ],
      "metadata": {
        "colab": {
          "base_uri": "https://localhost:8080/"
        },
        "id": "e41O0X9YTcNP",
        "outputId": "166c5e5f-e33c-4f44-9f52-c667e66397b5"
      },
      "execution_count": null,
      "outputs": [
        {
          "output_type": "stream",
          "name": "stdout",
          "text": [
            "The value of x is 8 and y is 10\n"
          ]
        }
      ]
    },
    {
      "cell_type": "markdown",
      "source": [
        "### Basic Input in Python"
      ],
      "metadata": {
        "id": "u_DJ58nvIcEq"
      }
    },
    {
      "cell_type": "code",
      "source": [
        "# Python User Input\n",
        "\n",
        "num = input('Enter a number: ')\n",
        "\n",
        "print('You Entered:', num)\n",
        "\n",
        "print('Data type of num:', type(num))"
      ],
      "metadata": {
        "colab": {
          "base_uri": "https://localhost:8080/",
          "height": 0
        },
        "id": "lMd3g0E3TxZy",
        "outputId": "d7919a17-c47d-44f6-f312-832c3bc6dd07"
      },
      "execution_count": 1,
      "outputs": [
        {
          "output_type": "stream",
          "name": "stdout",
          "text": [
            "Enter a number: 7\n",
            "You Entered: 7\n",
            "Data type of num: <class 'str'>\n"
          ]
        }
      ]
    },
    {
      "cell_type": "code",
      "source": [
        "# Converting User Input into a Number (Integer)\n",
        "\n",
        "number = int(input('Enter a number:'))\n",
        "\n",
        "print('You entered:', number)\n",
        "print('Data type of number:', type(number))"
      ],
      "metadata": {
        "colab": {
          "base_uri": "https://localhost:8080/",
          "height": 0
        },
        "id": "7R2ByIuJUDgF",
        "outputId": "dff7ff90-cd40-4164-8769-37ff177c0d8f"
      },
      "execution_count": 2,
      "outputs": [
        {
          "output_type": "stream",
          "name": "stdout",
          "text": [
            "Enter a number:9\n",
            "You entered: 9\n",
            "Data type of number: <class 'int'>\n"
          ]
        }
      ]
    },
    {
      "cell_type": "code",
      "source": [
        "# Download Data\n",
        "\n",
        "!pip install wget"
      ],
      "metadata": {
        "colab": {
          "base_uri": "https://localhost:8080/"
        },
        "id": "ZQ4E3PtHIy5S",
        "outputId": "585b63af-f4b6-4207-9ac5-845164ebbf6d"
      },
      "execution_count": null,
      "outputs": [
        {
          "output_type": "stream",
          "name": "stdout",
          "text": [
            "Collecting wget\n",
            "  Downloading wget-3.2.zip (10 kB)\n",
            "  Preparing metadata (setup.py) ... \u001b[?25l\u001b[?25hdone\n",
            "Building wheels for collected packages: wget\n",
            "  Building wheel for wget (setup.py) ... \u001b[?25l\u001b[?25hdone\n",
            "  Created wheel for wget: filename=wget-3.2-py3-none-any.whl size=9656 sha256=ea51dd9cd7724b3fe194fdd0b34269126cbe4895354cf5dc4512a367e2d28a82\n",
            "  Stored in directory: /root/.cache/pip/wheels/8b/f1/7f/5c94f0a7a505ca1c81cd1d9208ae2064675d97582078e6c769\n",
            "Successfully built wget\n",
            "Installing collected packages: wget\n",
            "Successfully installed wget-3.2\n"
          ]
        }
      ]
    },
    {
      "cell_type": "code",
      "source": [
        "# Download Example File\n",
        "!mkdir -p /resources/data\n",
        "!wget -O /resources/data/Example1.txt https://s3-api.us-geo.objectstorage.softlayer.net/cf-courses-data/CognitiveClass/PY0101EN/labs/example1.txt"
      ],
      "metadata": {
        "colab": {
          "base_uri": "https://localhost:8080/"
        },
        "id": "BrJiZGJ7J-hZ",
        "outputId": "4e5a56a1-ad4a-467d-e46e-074ac20dcddd"
      },
      "execution_count": null,
      "outputs": [
        {
          "output_type": "stream",
          "name": "stdout",
          "text": [
            "--2024-09-08 05:42:36--  https://s3-api.us-geo.objectstorage.softlayer.net/cf-courses-data/CognitiveClass/PY0101EN/labs/example1.txt\n",
            "Resolving s3-api.us-geo.objectstorage.softlayer.net (s3-api.us-geo.objectstorage.softlayer.net)... 67.228.254.196\n",
            "Connecting to s3-api.us-geo.objectstorage.softlayer.net (s3-api.us-geo.objectstorage.softlayer.net)|67.228.254.196|:443... connected.\n",
            "HTTP request sent, awaiting response... 200 OK\n",
            "Length: 45 [text/plain]\n",
            "Saving to: ‘/resources/data/Example1.txt’\n",
            "\n",
            "/resources/data/Exa 100%[===================>]      45  --.-KB/s    in 0s      \n",
            "\n",
            "2024-09-08 05:42:36 (14.8 MB/s) - ‘/resources/data/Example1.txt’ saved [45/45]\n",
            "\n"
          ]
        }
      ]
    },
    {
      "cell_type": "code",
      "source": [
        "# Read the Example1\n",
        "\n",
        "example1 = \"/resources/data/Example1.txt\"\n",
        "file1 = open(example1, \"r\")"
      ],
      "metadata": {
        "id": "e0W3Gs15I66S"
      },
      "execution_count": null,
      "outputs": []
    },
    {
      "cell_type": "code",
      "source": [
        "# Print the path of file\n",
        "\n",
        "file1.name"
      ],
      "metadata": {
        "colab": {
          "base_uri": "https://localhost:8080/",
          "height": 35
        },
        "id": "ZpTADQGfI6tQ",
        "outputId": "d7ecd367-53ef-4386-9be3-e87a5efc25ff"
      },
      "execution_count": null,
      "outputs": [
        {
          "output_type": "execute_result",
          "data": {
            "text/plain": [
              "'/resources/data/Example1.txt'"
            ],
            "application/vnd.google.colaboratory.intrinsic+json": {
              "type": "string"
            }
          },
          "metadata": {},
          "execution_count": 120
        }
      ]
    },
    {
      "cell_type": "code",
      "source": [
        "# Print the mode of file, either 'r' or 'w'\n",
        "\n",
        "file1.mode"
      ],
      "metadata": {
        "colab": {
          "base_uri": "https://localhost:8080/",
          "height": 35
        },
        "id": "jj0Bf1LaJRDZ",
        "outputId": "f83efd48-0ef5-4000-f2be-36101801ec1e"
      },
      "execution_count": null,
      "outputs": [
        {
          "output_type": "execute_result",
          "data": {
            "text/plain": [
              "'r'"
            ],
            "application/vnd.google.colaboratory.intrinsic+json": {
              "type": "string"
            }
          },
          "metadata": {},
          "execution_count": 121
        }
      ]
    },
    {
      "cell_type": "code",
      "source": [
        "# Read the file\n",
        "\n",
        "FileContent = file1.read()\n",
        "FileContent"
      ],
      "metadata": {
        "colab": {
          "base_uri": "https://localhost:8080/",
          "height": 35
        },
        "id": "Qbh4T2KEJQvR",
        "outputId": "492eda92-30df-4eaa-b24d-6ecaf1e38d2c"
      },
      "execution_count": null,
      "outputs": [
        {
          "output_type": "execute_result",
          "data": {
            "text/plain": [
              "'This is line 1 \\nThis is line 2\\nThis is line 3'"
            ],
            "application/vnd.google.colaboratory.intrinsic+json": {
              "type": "string"
            }
          },
          "metadata": {},
          "execution_count": 122
        }
      ]
    },
    {
      "cell_type": "code",
      "source": [
        "# Print the file with '\\n' as a new line\n",
        "\n",
        "print(FileContent)"
      ],
      "metadata": {
        "colab": {
          "base_uri": "https://localhost:8080/"
        },
        "id": "-flMBzhwJQi7",
        "outputId": "9d503fc0-09a3-496d-cedd-d1fb014a0873"
      },
      "execution_count": null,
      "outputs": [
        {
          "output_type": "stream",
          "name": "stdout",
          "text": [
            "This is line 1 \n",
            "This is line 2\n",
            "This is line 3\n"
          ]
        }
      ]
    },
    {
      "cell_type": "code",
      "source": [
        "# Type of file content\n",
        "\n",
        "type(FileContent)"
      ],
      "metadata": {
        "colab": {
          "base_uri": "https://localhost:8080/"
        },
        "id": "0JZu90GnJsFq",
        "outputId": "165602ca-10de-4a1f-89a5-19ed254e652f"
      },
      "execution_count": null,
      "outputs": [
        {
          "output_type": "execute_result",
          "data": {
            "text/plain": [
              "str"
            ]
          },
          "metadata": {},
          "execution_count": 127
        }
      ]
    },
    {
      "cell_type": "code",
      "source": [
        "# Close file after finish\n",
        "\n",
        "file1.close()"
      ],
      "metadata": {
        "id": "V3wZPTe1Jwg3"
      },
      "execution_count": null,
      "outputs": []
    },
    {
      "cell_type": "markdown",
      "source": [
        "### Weekly Exercise 1"
      ],
      "metadata": {
        "id": "wKAUnhD4smSM"
      }
    },
    {
      "cell_type": "code",
      "source": [
        "# Open File\n",
        "\n",
        "with open('Biodata.txt', \"r\") as file1:\n",
        "    FileContent = file1.read()\n",
        "    print(FileContent)"
      ],
      "metadata": {
        "id": "0Ux1Pja7adER",
        "colab": {
          "base_uri": "https://localhost:8080/",
          "height": 0
        },
        "outputId": "3340138d-777e-429c-b419-b2d9e496dabb"
      },
      "execution_count": 3,
      "outputs": [
        {
          "output_type": "stream",
          "name": "stdout",
          "text": [
            "Nama: Nabila Syafiqah Zahran Firlina\n",
            "NPM: 2430506058\n",
            "Program Studi: S-1 Teknologi Informasi\n",
            "Alamat: Magelang Utara, Kota Magelang, Jawa Tengah\n",
            "Hobi: Membaca\n",
            "Email: nabilaszf@gmail.com\n"
          ]
        }
      ]
    },
    {
      "cell_type": "code",
      "source": [
        "# Script untuk menampilkan nama, program studi, dan email\n",
        "with open(\"Biodata.txt\", \"r\") as file1:\n",
        "    FileasList = file1.readlines()\n",
        "    print(FileasList[0])\n",
        "    print(FileasList[2])\n",
        "    print(FileasList[5])"
      ],
      "metadata": {
        "colab": {
          "base_uri": "https://localhost:8080/",
          "height": 0
        },
        "id": "_bGltMViF98l",
        "outputId": "a796453b-8f30-4bc2-e257-f30c5d7bc33d"
      },
      "execution_count": 4,
      "outputs": [
        {
          "output_type": "stream",
          "name": "stdout",
          "text": [
            "Nama: Nabila Syafiqah Zahran Firlina\n",
            "\n",
            "Program Studi: S-1 Teknologi Informasi\n",
            "\n",
            "Email: nabilaszf@gmail.com\n"
          ]
        }
      ]
    },
    {
      "cell_type": "code",
      "source": [
        "# Writing line to file\n",
        "\n",
        "with open('Biodata1.txt', 'w') as writefile:\n",
        "    writefile.write(\"Nama           : Nabila Syafiqah Zahran Firlina\\n\")\n",
        "    writefile.write(\"NPM            : 2430506058\\n\")\n",
        "    writefile.write(\"Program Studi  : S-1 Teknologi Informasi\\n\")\n",
        "    writefile.write(\"Alamat         : Magelang Utara, Kota Magelang, Jawa Tengah\\n\")\n"
      ],
      "metadata": {
        "id": "4mKJlwWWr543"
      },
      "execution_count": 5,
      "outputs": []
    },
    {
      "cell_type": "code",
      "source": [
        "# Read file\n",
        "\n",
        "with open('Biodata1.txt', 'r') as testwritefile:\n",
        "    print(testwritefile.readlines(1))\n",
        "    print(testwritefile.readlines(2))\n",
        "    print(testwritefile.readlines(3))\n",
        "    print(testwritefile.readlines(4))\n",
        "    print(testwritefile.readlines(5))"
      ],
      "metadata": {
        "colab": {
          "base_uri": "https://localhost:8080/",
          "height": 0
        },
        "id": "CYo0Cif1r8s8",
        "outputId": "69b011a2-7c7e-498d-af27-a635c16ff830"
      },
      "execution_count": 6,
      "outputs": [
        {
          "output_type": "stream",
          "name": "stdout",
          "text": [
            "['Nama           : Nabila Syafiqah Zahran Firlina\\n']\n",
            "['NPM            : 2430506058\\n']\n",
            "['Program Studi  : S-1 Teknologi Informasi\\n']\n",
            "['Alamat         : Magelang Utara, Kota Magelang, Jawa Tengah\\n']\n",
            "[]\n"
          ]
        }
      ]
    },
    {
      "cell_type": "code",
      "source": [
        "# Copy File to Another\n",
        "\n",
        "with open('Biodata1.txt','r') as readfile:\n",
        "    with open('Biodata2.txt','w') as writefile:\n",
        "          for line in readfile:\n",
        "                writefile.write(line)"
      ],
      "metadata": {
        "id": "uQ6g6IiOsBBp"
      },
      "execution_count": 7,
      "outputs": []
    },
    {
      "cell_type": "code",
      "source": [
        "# Verify if the copy is successfully executed\n",
        "\n",
        "with open('Biodata2.txt','r') as testwritefile:\n",
        "    print(testwritefile.read())"
      ],
      "metadata": {
        "colab": {
          "base_uri": "https://localhost:8080/",
          "height": 0
        },
        "id": "Yqh4a4eDBwWl",
        "outputId": "0c1f6b65-44ee-4c88-c859-c4e19afacac7"
      },
      "execution_count": 8,
      "outputs": [
        {
          "output_type": "stream",
          "name": "stdout",
          "text": [
            "Nama           : Nabila Syafiqah Zahran Firlina\n",
            "NPM            : 2430506058\n",
            "Program Studi  : S-1 Teknologi Informasi\n",
            "Alamat         : Magelang Utara, Kota Magelang, Jawa Tengah\n",
            "\n"
          ]
        }
      ]
    },
    {
      "cell_type": "markdown",
      "source": [
        "### Weekly Exercise 2"
      ],
      "metadata": {
        "id": "IWEHhmVhstB6"
      }
    },
    {
      "cell_type": "code",
      "source": [
        "print(\"Selamat datang di Toko Maju Jaya\")\n",
        "print(\"Senin, 4 September 2023       13.05\")\n",
        "print(\" \")\n",
        "\n",
        "print(\"DAFTAR BELANJA:\")\n",
        "item1 = \"Sabun\"\n",
        "item2 = \"Shampo\"\n",
        "item3 = \"Mie Instant\"\n",
        "item4 = \"Detergen\"\n",
        "harga1 =10000\n",
        "harga2 =15000\n",
        "harga3 =5000\n",
        "harga4 =17500\n",
        "\n",
        "total = harga1 + harga2 + harga3 + harga4\n",
        "\n",
        "print(item1,        \"= Rp\",harga1)\n",
        "print(item2,        \"= Rp\",harga2)\n",
        "print(item3,        \"= Rp\",harga3)\n",
        "print(item4,        \"= Rp\",harga4)\n",
        "\n",
        "print(\" \")\n",
        "print(\"Total = Rp \",total)\n",
        "\n",
        "with open('Kuitansi.txt', 'w') as testwritefile:\n",
        "        testwritefile.write(\"Selamat Datang di Toko Maju Jaya\\n\")\n",
        "        testwritefile.write(\" \\n\")\n",
        "        testwritefile.write(\"Kuitansi - 4 September 2023\" + \"\\n\")\n",
        "        testwritefile.write(\" \\n\")\n",
        "        testwritefile.write(item1 + \" = Rp\" + str(harga1) + \"\\n\")\n",
        "        testwritefile.write(item2 + \" = Rp\" + str(harga2) + \"\\n\")\n",
        "        testwritefile.write(item3 + \" = Rp\" + str(harga3) + \"\\n\")\n",
        "        testwritefile.write(item4 + \" = Rp\" + str(harga4) + \"\\n\")\n",
        "        testwritefile.write(\" \\n\")\n",
        "        testwritefile.write(\"Total Belanja =\" + str(total))"
      ],
      "metadata": {
        "colab": {
          "base_uri": "https://localhost:8080/",
          "height": 0
        },
        "id": "F6wxWTkysV9D",
        "outputId": "722239fa-94da-45d6-9314-bc7740079ce9"
      },
      "execution_count": 9,
      "outputs": [
        {
          "output_type": "stream",
          "name": "stdout",
          "text": [
            "Selamat datang di Toko Maju Jaya\n",
            "Senin, 4 September 2023       13.05\n",
            " \n",
            "DAFTAR BELANJA:\n",
            "Sabun = Rp 10000\n",
            "Shampo = Rp 15000\n",
            "Mie Instant = Rp 5000\n",
            "Detergen = Rp 17500\n",
            " \n",
            "Total = Rp  47500\n"
          ]
        }
      ]
    },
    {
      "cell_type": "code",
      "source": [],
      "metadata": {
        "id": "0rIXqOqyiKHp"
      },
      "execution_count": null,
      "outputs": []
    }
  ]
}