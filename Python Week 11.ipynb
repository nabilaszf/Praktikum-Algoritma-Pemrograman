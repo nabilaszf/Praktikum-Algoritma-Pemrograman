{
  "nbformat": 4,
  "nbformat_minor": 0,
  "metadata": {
    "colab": {
      "provenance": [],
      "authorship_tag": "ABX9TyMyd24r/GMHYtqjwjdF/SRU",
      "include_colab_link": true
    },
    "kernelspec": {
      "name": "python3",
      "display_name": "Python 3"
    },
    "language_info": {
      "name": "python"
    }
  },
  "cells": [
    {
      "cell_type": "markdown",
      "metadata": {
        "id": "view-in-github",
        "colab_type": "text"
      },
      "source": [
        "<a href=\"https://colab.research.google.com/github/nabilaszf/project-01/blob/main/Python%20Week%2011.ipynb\" target=\"_parent\"><img src=\"https://colab.research.google.com/assets/colab-badge.svg\" alt=\"Open In Colab\"/></a>"
      ]
    },
    {
      "cell_type": "code",
      "source": [
        "# Weekly Exercise 1\n",
        "\n",
        "import matematika\n",
        "\n",
        "print(\"Program Menghitung Luas Lingkaran\")\n",
        "jari_jari = float(input(\"Masukkan jari-jari lingkaran: \"))\n",
        "luas_lingkaran = matematika.luas_lingkaran(jari_jari)\n",
        "print(f\"Luas lingkaran adalah:\", luas_lingkaran)\n",
        "print(\" \")\n",
        "print(\"Program Menghitung Luas Persegi\")\n",
        "sisi = float(input(\"Masukkan sisi persegi: \"))\n",
        "luas_persegi = matematika.luas_persegi(sisi)\n",
        "print(f\"Luas persegi adalah:\", luas_persegi)"
      ],
      "metadata": {
        "colab": {
          "base_uri": "https://localhost:8080/"
        },
        "id": "qKUh0lx0xfbB",
        "outputId": "f3bc69fb-2492-4ec0-ea9e-dc5fd2a2a599"
      },
      "execution_count": null,
      "outputs": [
        {
          "output_type": "stream",
          "name": "stdout",
          "text": [
            "Program Menghitung Luas Lingkaran\n",
            "Masukkan jari-jari lingkaran: 10\n",
            "Luas lingkaran adalah: 314.0\n",
            " \n",
            "Program Menghitung Luas Persegi\n",
            "Masukkan sisi persegi: 5\n",
            "Luas persegi adalah: 25.0\n"
          ]
        }
      ]
    },
    {
      "cell_type": "code",
      "source": [
        "# Weekly Exercise 2\n",
        "import math\n",
        "\n",
        "print(\"1. Menghitung Akar Kuadrat\")\n",
        "angka = int(input(\"Masukkan angka: \"))\n",
        "akar_kuadrat = math.sqrt(angka)\n",
        "print(f\"Akar kuadrat dari {angka} adalah:\", akar_kuadrat)\n",
        "print(\" \")\n",
        "print(\"2. Menghitung Pangkat\")\n",
        "angka = int(input(\"Masukkan angka: \"))\n",
        "pangkat = int(input(\"Masukkan pangkat: \"))\n",
        "hasil_pangkat = math.pow(angka, pangkat)\n",
        "print(f\"{angka} pangkat {pangkat} adalah:\", hasil_pangkat)\n",
        "print(\" \")\n",
        "print(\"3. Menghitung Logaritma\")\n",
        "angka = int(input(\"Masukkan angka: \"))\n",
        "logaritma = math.log10(angka)\n",
        "print(f\"Logaritma basis 10 dari {angka} adalah:\", logaritma)\n",
        "print(\" \")\n",
        "print(\"4. Menghitung Sinus\")\n",
        "sudut = int(input(\"Masukkan sudut dalam derajat: \"))\n",
        "sinus = math.sin(math.radians(sudut))\n",
        "print(f\"Sinus dari {sudut} derajat adalah:\", sinus)\n",
        "print(\" \")\n",
        "print(\"5. Menghitung Faktorial\")\n",
        "angka = int(input(\"Masukkan angka: \"))\n",
        "faktorial = math.factorial(angka)\n",
        "print(f\"Faktorial dari {angka} adalah:\", faktorial)\n",
        "print(\" \")"
      ],
      "metadata": {
        "colab": {
          "base_uri": "https://localhost:8080/"
        },
        "id": "jye4FZgNOq50",
        "outputId": "2aea43ae-f931-497b-b6c2-19354f5c5ab3"
      },
      "execution_count": null,
      "outputs": [
        {
          "output_type": "stream",
          "name": "stdout",
          "text": [
            "1. Menghitung Akar Kuadrat\n",
            "Masukkan angka: 144\n",
            "Akar kuadrat dari 144 adalah: 12.0\n",
            " \n",
            "2. Menghitung Pangkat\n",
            "Masukkan angka: 5\n",
            "Masukkan pangkat: 2\n",
            "5 pangkat 2 adalah: 25.0\n",
            " \n",
            "3. Menghitung Logaritma\n",
            "Masukkan angka: 10\n",
            "Logaritma basis 10 dari 10 adalah: 1.0\n",
            " \n",
            "4. Menghitung Sinus\n",
            "Masukkan sudut dalam derajat: 45\n",
            "Sinus dari 45 derajat adalah: 0.7071067811865475\n",
            " \n",
            "5. Menghitung Faktorial\n",
            "Masukkan angka: 5\n",
            "Faktorial dari 5 adalah: 120\n",
            " \n"
          ]
        }
      ]
    },
    {
      "cell_type": "code",
      "source": [],
      "metadata": {
        "id": "L6W64BG3uR9b"
      },
      "execution_count": null,
      "outputs": []
    }
  ]
}