{
  "nbformat": 4,
  "nbformat_minor": 0,
  "metadata": {
    "colab": {
      "provenance": [],
      "authorship_tag": "ABX9TyOgQFrL9xUO2ogOXg0cCzIG",
      "include_colab_link": true
    },
    "kernelspec": {
      "name": "python3",
      "display_name": "Python 3"
    },
    "language_info": {
      "name": "python"
    }
  },
  "cells": [
    {
      "cell_type": "markdown",
      "metadata": {
        "id": "view-in-github",
        "colab_type": "text"
      },
      "source": [
        "<a href=\"https://colab.research.google.com/github/nabilaszf/project-01/blob/main/Phyton%20Week%2004.ipynb\" target=\"_parent\"><img src=\"https://colab.research.google.com/assets/colab-badge.svg\" alt=\"Open In Colab\"/></a>"
      ]
    },
    {
      "cell_type": "markdown",
      "source": [
        "#### Comparison Operators"
      ],
      "metadata": {
        "id": "tjIGdTxUWBOn"
      }
    },
    {
      "cell_type": "code",
      "execution_count": null,
      "metadata": {
        "colab": {
          "base_uri": "https://localhost:8080/"
        },
        "id": "NomKuwRfQ7RJ",
        "outputId": "e80c14ce-4cc6-45ba-f589-25654758a19b"
      },
      "outputs": [
        {
          "output_type": "execute_result",
          "data": {
            "text/plain": [
              "False"
            ]
          },
          "metadata": {},
          "execution_count": 1
        }
      ],
      "source": [
        "# Condition Equal\n",
        "\n",
        "a = 5\n",
        "a == 6\n"
      ]
    },
    {
      "cell_type": "code",
      "source": [
        "# Condition Equal (2)\n",
        "\n",
        "b = 9\n",
        "b == 9"
      ],
      "metadata": {
        "colab": {
          "base_uri": "https://localhost:8080/"
        },
        "id": "J4FuOhUpUMqM",
        "outputId": "2b8cd426-7e28-4aa7-8193-046a1be76cd6"
      },
      "execution_count": null,
      "outputs": [
        {
          "output_type": "execute_result",
          "data": {
            "text/plain": [
              "True"
            ]
          },
          "metadata": {},
          "execution_count": 2
        }
      ]
    },
    {
      "cell_type": "code",
      "source": [
        "# Greater than Sign\n",
        "\n",
        "i = 7\n",
        "i > 8"
      ],
      "metadata": {
        "colab": {
          "base_uri": "https://localhost:8080/"
        },
        "id": "gjgl-3iMUVC2",
        "outputId": "5afa5521-dd05-4973-abe9-ea7dc5816629"
      },
      "execution_count": null,
      "outputs": [
        {
          "output_type": "execute_result",
          "data": {
            "text/plain": [
              "False"
            ]
          },
          "metadata": {},
          "execution_count": 3
        }
      ]
    },
    {
      "cell_type": "code",
      "source": [
        "# Greater than sign\n",
        "\n",
        "p = 5\n",
        "p > 3"
      ],
      "metadata": {
        "colab": {
          "base_uri": "https://localhost:8080/"
        },
        "id": "YVlaaS0yUg7D",
        "outputId": "1c19d135-3eea-4e9c-de74-68235608e333"
      },
      "execution_count": null,
      "outputs": [
        {
          "output_type": "execute_result",
          "data": {
            "text/plain": [
              "True"
            ]
          },
          "metadata": {},
          "execution_count": 4
        }
      ]
    },
    {
      "cell_type": "code",
      "source": [
        "# Inequality Sign\n",
        "\n",
        "i = 3\n",
        "i != 7"
      ],
      "metadata": {
        "colab": {
          "base_uri": "https://localhost:8080/"
        },
        "id": "jqAaP8aZUqz2",
        "outputId": "51a0bbad-8ce2-470f-b51b-40b97ac85b6c"
      },
      "execution_count": null,
      "outputs": [
        {
          "output_type": "execute_result",
          "data": {
            "text/plain": [
              "True"
            ]
          },
          "metadata": {},
          "execution_count": 5
        }
      ]
    },
    {
      "cell_type": "code",
      "source": [
        "# Inequality Sign\n",
        "\n",
        "i = 8\n",
        "i != 8"
      ],
      "metadata": {
        "colab": {
          "base_uri": "https://localhost:8080/"
        },
        "id": "7E44g0PgU8gM",
        "outputId": "4565e434-7649-4a38-d704-6ee5e6bc5bb5"
      },
      "execution_count": null,
      "outputs": [
        {
          "output_type": "execute_result",
          "data": {
            "text/plain": [
              "False"
            ]
          },
          "metadata": {},
          "execution_count": 6
        }
      ]
    },
    {
      "cell_type": "code",
      "source": [
        "# Using Equality Sign to Compare the Strings\n",
        "\n",
        "\"Senin\" == \"Jumat\""
      ],
      "metadata": {
        "colab": {
          "base_uri": "https://localhost:8080/"
        },
        "id": "mNIN26x3VFOm",
        "outputId": "b8e9852e-18f2-4340-d09a-6783e8abcf6a"
      },
      "execution_count": null,
      "outputs": [
        {
          "output_type": "execute_result",
          "data": {
            "text/plain": [
              "False"
            ]
          },
          "metadata": {},
          "execution_count": 7
        }
      ]
    },
    {
      "cell_type": "code",
      "source": [
        "# Using Equality Sign to Compare the Strings\n",
        "\n",
        "\"Senin\" != \"Jumat\""
      ],
      "metadata": {
        "colab": {
          "base_uri": "https://localhost:8080/"
        },
        "id": "B66jzz5bVO-B",
        "outputId": "c8b10a92-26c8-41a9-ed99-0b90bb9cdcee"
      },
      "execution_count": null,
      "outputs": [
        {
          "output_type": "execute_result",
          "data": {
            "text/plain": [
              "True"
            ]
          },
          "metadata": {},
          "execution_count": 8
        }
      ]
    },
    {
      "cell_type": "code",
      "source": [
        "# Using Equality Sign to Compare the Strings\n",
        "\n",
        "\"Senin\" == \"Senin\""
      ],
      "metadata": {
        "colab": {
          "base_uri": "https://localhost:8080/"
        },
        "id": "CXMmzIQIVWzx",
        "outputId": "e8b25533-2ed5-4422-f735-67e03d4520d8"
      },
      "execution_count": null,
      "outputs": [
        {
          "output_type": "execute_result",
          "data": {
            "text/plain": [
              "True"
            ]
          },
          "metadata": {},
          "execution_count": 9
        }
      ]
    },
    {
      "cell_type": "code",
      "source": [
        "# Comparing Characters (based on ASCII Code)\n",
        "\n",
        "'B' > 'A'"
      ],
      "metadata": {
        "colab": {
          "base_uri": "https://localhost:8080/"
        },
        "id": "91NSvdCOVf6d",
        "outputId": "a0494226-0dd9-469b-ec3c-c5feee443e0f"
      },
      "execution_count": null,
      "outputs": [
        {
          "output_type": "execute_result",
          "data": {
            "text/plain": [
              "True"
            ]
          },
          "metadata": {},
          "execution_count": 10
        }
      ]
    },
    {
      "cell_type": "code",
      "source": [
        "# Comparing Characters (yang dibaca huruf yg di depan)\n",
        "\n",
        "'BA' < 'AB'"
      ],
      "metadata": {
        "colab": {
          "base_uri": "https://localhost:8080/"
        },
        "id": "KlPTW4GAVsva",
        "outputId": "d3ce3898-1d21-4256-9131-c1ef2911a40c"
      },
      "execution_count": null,
      "outputs": [
        {
          "output_type": "execute_result",
          "data": {
            "text/plain": [
              "False"
            ]
          },
          "metadata": {},
          "execution_count": 11
        }
      ]
    },
    {
      "cell_type": "markdown",
      "source": [
        "#### Branching"
      ],
      "metadata": {
        "id": "Lc-K1lN2WG8W"
      }
    },
    {
      "cell_type": "code",
      "source": [
        "# Contoh pernyataan \"If ...\"\n",
        "\n",
        "age = 18\n",
        "\n",
        "if age > 18 :\n",
        "    print(\"Dilarang masuk!\")\n",
        "print(\"Jangan di sini!\")"
      ],
      "metadata": {
        "colab": {
          "base_uri": "https://localhost:8080/"
        },
        "id": "6tESPZU1V2mB",
        "outputId": "80db1b71-1642-4a1f-eb58-69728843c7c8"
      },
      "execution_count": null,
      "outputs": [
        {
          "output_type": "stream",
          "name": "stdout",
          "text": [
            "Jangan di sini!\n"
          ]
        }
      ]
    },
    {
      "cell_type": "code",
      "source": [
        "age = 20\n",
        "\n",
        "if age < 18 :\n",
        "    print(\"Dilarang masuk!\")\n",
        "else :\n",
        "    print(\"Silahkan masuk!\")\n",
        "print(\"Jangan berisik!\")"
      ],
      "metadata": {
        "colab": {
          "base_uri": "https://localhost:8080/"
        },
        "id": "f2-SC-YeWn6n",
        "outputId": "c151040c-362b-4dae-ad23-9bbd91ad0922"
      },
      "execution_count": null,
      "outputs": [
        {
          "output_type": "stream",
          "name": "stdout",
          "text": [
            "Silahkan masuk!\n",
            "Jangan berisik!\n"
          ]
        }
      ]
    },
    {
      "cell_type": "code",
      "source": [
        "age = 15\n",
        "\n",
        "if age < 18 :\n",
        "    print(\"Dilarang masuk!\")\n",
        "else :\n",
        "    print(\"Silahkan masuk!\")\n",
        "print(\"Jangan berisik!\")"
      ],
      "metadata": {
        "colab": {
          "base_uri": "https://localhost:8080/"
        },
        "id": "rkMdskoSXGf3",
        "outputId": "65e31060-3782-4d76-dd41-f77dae2ceb77"
      },
      "execution_count": null,
      "outputs": [
        {
          "output_type": "stream",
          "name": "stdout",
          "text": [
            "Dilarang masuk!\n",
            "Jangan berisik!\n"
          ]
        }
      ]
    },
    {
      "cell_type": "code",
      "source": [
        "# Contoh pernyataan \"Else if ...\"\n",
        "\n",
        "age = 23\n",
        "\n",
        "if age > 18 :\n",
        "    print(\"Silahkan masuk!\")\n",
        "elif age == 18 :\n",
        "    print(\"Silahkan masuk!\")\n",
        "else :\n",
        "    print(\"Dilarang masuk!\")\n",
        "print(\"Jangan berisik!\")\n"
      ],
      "metadata": {
        "colab": {
          "base_uri": "https://localhost:8080/"
        },
        "id": "P_Jpt-JtXMJ_",
        "outputId": "5fc20e3c-97de-4bcb-84f4-2a86eff0f8b9"
      },
      "execution_count": null,
      "outputs": [
        {
          "output_type": "stream",
          "name": "stdout",
          "text": [
            "Silahkan masuk!\n",
            "Jangan berisik!\n"
          ]
        }
      ]
    },
    {
      "cell_type": "code",
      "source": [
        "# Contoh pernyataan \"Else if ...\" (2)\n",
        "\n",
        "age = 15\n",
        "\n",
        "if age > 18 :\n",
        "    print(\"Silahkan masuk!\")\n",
        "elif age == 18 :\n",
        "    print(\"Silahkan masuk!\")\n",
        "else :\n",
        "    print(\"Dilarang masuk!\")\n",
        "print(\"Jangan berisik!\")"
      ],
      "metadata": {
        "colab": {
          "base_uri": "https://localhost:8080/"
        },
        "id": "QTt4afzgXwcn",
        "outputId": "d4c7688b-6b9b-423e-c12e-1821801d1107"
      },
      "execution_count": null,
      "outputs": [
        {
          "output_type": "stream",
          "name": "stdout",
          "text": [
            "Dilarang masuk!\n",
            "Jangan berisik!\n"
          ]
        }
      ]
    },
    {
      "cell_type": "code",
      "source": [
        "# Contoh pernyataan kondisi\n",
        "\n",
        "tahun_lahir = 2006\n",
        "\n",
        "if tahun_lahir < 2006 :\n",
        "    print(\"Usia anda belum legal.\")\n",
        "elif tahun_lahir == 2006 :\n",
        "    print(\"Usia anda sudah legal.\")\n",
        "else :\n",
        "    print(\"Usia anda sudah legal.\")\n",
        "print(\"Silakan masuk.\")"
      ],
      "metadata": {
        "colab": {
          "base_uri": "https://localhost:8080/"
        },
        "id": "oTQSzGVnX1xW",
        "outputId": "a73378ae-b1fd-48de-ef61-1314575bb08b"
      },
      "execution_count": null,
      "outputs": [
        {
          "output_type": "stream",
          "name": "stdout",
          "text": [
            "Usia anda sudah legal.\n",
            "Silakan masuk.\n"
          ]
        }
      ]
    },
    {
      "cell_type": "code",
      "source": [
        "# Contoh pernyataan kondisi\n",
        "\n",
        "tahun_lahir = 2006\n",
        "\n",
        "if(tahun_lahir > 2005) and (tahun_lahir < 2010):\n",
        "    print(\"Tahun lahirku ada di antara 2005 dan 2010\")\n",
        "print(\" \")\n",
        "print(\"Lakukan ...\")"
      ],
      "metadata": {
        "colab": {
          "base_uri": "https://localhost:8080/"
        },
        "id": "sWwpFS6GYfcX",
        "outputId": "ef04fa24-6a46-46c6-edf1-4a2414fb05cf"
      },
      "execution_count": null,
      "outputs": [
        {
          "output_type": "stream",
          "name": "stdout",
          "text": [
            "Tahun lahirku ada di antara 2005 dan 2010\n",
            " \n",
            "Lakukan ...\n"
          ]
        }
      ]
    },
    {
      "cell_type": "code",
      "source": [
        "# Condition statement example\n",
        "\n",
        "album_year = 1978\n",
        "\n",
        "if(album_year < 1980) or (album_year > 1989):\n",
        "    print (\"Album was not made in the 1980's\")\n",
        "else:\n",
        "    print(\"The Album was made in the 1980's \")"
      ],
      "metadata": {
        "colab": {
          "base_uri": "https://localhost:8080/"
        },
        "id": "rxtKbpxRaQKB",
        "outputId": "049c03e5-caab-491f-addd-662685b74b64"
      },
      "execution_count": null,
      "outputs": [
        {
          "output_type": "stream",
          "name": "stdout",
          "text": [
            "Album was not made in the 1980's\n"
          ]
        }
      ]
    },
    {
      "cell_type": "code",
      "source": [
        "# Condition statement example\n",
        "\n",
        "album_year = 1984\n",
        "\n",
        "if not (album_year == '1984'):\n",
        "    print (\"Album year is not 1984\")"
      ],
      "metadata": {
        "colab": {
          "base_uri": "https://localhost:8080/"
        },
        "id": "NocJf6SAampm",
        "outputId": "bfe2898f-ada1-40ac-9c50-549a8e54f2f2"
      },
      "execution_count": null,
      "outputs": [
        {
          "output_type": "stream",
          "name": "stdout",
          "text": [
            "Album year is not 1984\n"
          ]
        }
      ]
    },
    {
      "cell_type": "code",
      "source": [
        "# Quiz on Conditions\n",
        "\n",
        "BiB_rating = 8.5\n",
        "\n",
        "if BiB_rating > 8 :\n",
        "    print(\"This album is amazing!\")"
      ],
      "metadata": {
        "colab": {
          "base_uri": "https://localhost:8080/"
        },
        "id": "Ip6xP_b0arPZ",
        "outputId": "cc6c76b3-93ed-4c9d-b1fe-9530349d2af9"
      },
      "execution_count": 1,
      "outputs": [
        {
          "output_type": "stream",
          "name": "stdout",
          "text": [
            "This album is amazing!\n"
          ]
        }
      ]
    },
    {
      "cell_type": "code",
      "source": [
        "# Quiz on Conditions\n",
        "\n",
        "BiB_rating = 7.8\n",
        "\n",
        "if BiB_rating > 8 :\n",
        "    print(\"This album is amazing!\")\n",
        "elif BiB_rating <= 8 :\n",
        "    print(\"This album is ok!\")"
      ],
      "metadata": {
        "colab": {
          "base_uri": "https://localhost:8080/"
        },
        "id": "iSITCncMa9Bf",
        "outputId": "7e5c7bc8-7802-4bf0-a240-1055ca8114ec"
      },
      "execution_count": 2,
      "outputs": [
        {
          "output_type": "stream",
          "name": "stdout",
          "text": [
            "This album is ok!\n"
          ]
        }
      ]
    },
    {
      "cell_type": "markdown",
      "source": [
        "### Weekly Exercise 1"
      ],
      "metadata": {
        "id": "D-DyyfhHbkm2"
      }
    },
    {
      "cell_type": "code",
      "source": [
        "umur = int(input(\"Masukkan umur anda: \"))\n",
        "\n",
        "if umur > 17 :\n",
        "    print(\"Boleh membuat SIM.\")\n",
        "elif umur == 17 :\n",
        "    print(\"Boleh membuat SIM.\")\n",
        "else:\n",
        "    print(\"Tidak boleh membuat SIM.\")"
      ],
      "metadata": {
        "colab": {
          "base_uri": "https://localhost:8080/"
        },
        "id": "QgXlB435djWX",
        "outputId": "afd7946f-58e2-4b21-df77-ab30c212e432"
      },
      "execution_count": 3,
      "outputs": [
        {
          "output_type": "stream",
          "name": "stdout",
          "text": [
            "Masukkan umur anda: 19\n",
            "Boleh membuat SIM.\n"
          ]
        }
      ]
    },
    {
      "cell_type": "code",
      "source": [
        "umur = int(input(\"Masukkan umur anda: \"))\n",
        "\n",
        "if umur > 17 :\n",
        "    print(\"Boleh membuat SIM.\")\n",
        "elif umur == 17 :\n",
        "    print(\"Boleh membuat SIM.\")\n",
        "else:\n",
        "    print(\"Tidak boleh membuat SIM.\")"
      ],
      "metadata": {
        "colab": {
          "base_uri": "https://localhost:8080/"
        },
        "id": "CO0OUgZQel81",
        "outputId": "81c9ca38-c5f8-4616-fc19-78f82764b70f"
      },
      "execution_count": 4,
      "outputs": [
        {
          "output_type": "stream",
          "name": "stdout",
          "text": [
            "Masukkan umur anda: 15\n",
            "Tidak boleh membuat SIM.\n"
          ]
        }
      ]
    },
    {
      "cell_type": "markdown",
      "source": [
        "### Weekly Exercise 2"
      ],
      "metadata": {
        "id": "w0OyF5CZcUQ_"
      }
    },
    {
      "cell_type": "code",
      "source": [
        "nilai = int(input(\"Nilai: \"))\n",
        "\n",
        "if nilai >= 90 :\n",
        "    print(\"A\")\n",
        "elif nilai >= 80 :\n",
        "    print(\"B+\")\n",
        "elif nilai >= 70 :\n",
        "    print(\"B\")\n",
        "elif nilai >= 60 :\n",
        "    print(\"C+\")\n",
        "elif nilai >= 50 :\n",
        "    print(\"C\")\n",
        "elif nilai >= 40 :\n",
        "    print(\"D\")\n",
        "else :\n",
        "    print(\"E\")\n"
      ],
      "metadata": {
        "colab": {
          "base_uri": "https://localhost:8080/"
        },
        "id": "H6AhFoXDcPiM",
        "outputId": "20205225-de7c-49ee-e3e1-6fc7ba072f73"
      },
      "execution_count": null,
      "outputs": [
        {
          "output_type": "stream",
          "name": "stdout",
          "text": [
            "Nilai: 90\n",
            "A\n"
          ]
        }
      ]
    },
    {
      "cell_type": "markdown",
      "source": [
        "### Weekly Exercise 3"
      ],
      "metadata": {
        "id": "JbqBXcPcfaA6"
      }
    },
    {
      "cell_type": "code",
      "source": [
        "nilai = float(input(\"Nilai: \"))\n",
        "\n",
        "\n",
        "if (nilai >= 80.00) and (nilai <= 100.00) :\n",
        "    print(\"A\")\n",
        "elif (nilai >= 77.50) and (nilai <= 79.99) :\n",
        "    print(\"A-\")\n",
        "elif (nilai >= 75.00) and (nilai <= 77.49) :\n",
        "    print(\"A/B\")\n",
        "elif (nilai >= 72.50) and (nilai <= 74.99) :\n",
        "    print(\"B+\")\n",
        "elif (nilai >= 70.00) and (nilai <= 72.49) :\n",
        "    print(\"B\")\n",
        "elif (nilai >= 67.50) and (nilai <= 69.99) :\n",
        "    print(\"B-\")\n",
        "elif (nilai >= 65.00) and (nilai <= 67.49) :\n",
        "    print(\"B/C\")\n",
        "elif (nilai >= 62.50) and (nilai <= 64.99) :\n",
        "    print(\"C+\")\n",
        "elif (nilai >= 60.00) and (nilai <= 62.49) :\n",
        "    print(\"C\")\n",
        "elif (nilai >= 55.50) and (nilai <= 59.99) :\n",
        "    print(\"C-\")\n",
        "elif (nilai >= 50.00) and (nilai <= 54.99) :\n",
        "    print(\"C/D\")\n",
        "elif (nilai >= 45.00) and (nilai <= 49.99) :\n",
        "    print(\"D+\")\n",
        "elif (nilai >= 40.00) and (nilai <= 44.99) :\n",
        "    print(\"D\")\n",
        "else :\n",
        "    print(\"E\")"
      ],
      "metadata": {
        "colab": {
          "base_uri": "https://localhost:8080/"
        },
        "id": "yphpeZnDfIKB",
        "outputId": "f460b328-7a72-41ab-a4ea-deff05d8909e"
      },
      "execution_count": null,
      "outputs": [
        {
          "output_type": "stream",
          "name": "stdout",
          "text": [
            "Nilai: 20\n",
            "E\n"
          ]
        }
      ]
    },
    {
      "cell_type": "code",
      "source": [],
      "metadata": {
        "id": "drWfCQ2xiT-S"
      },
      "execution_count": null,
      "outputs": []
    }
  ]
}
