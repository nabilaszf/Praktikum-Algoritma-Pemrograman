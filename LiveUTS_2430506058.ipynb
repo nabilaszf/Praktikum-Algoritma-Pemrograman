{
  "nbformat": 4,
  "nbformat_minor": 0,
  "metadata": {
    "colab": {
      "provenance": [],
      "authorship_tag": "ABX9TyOnyejMHoIydOlNYsFLKlXp",
      "include_colab_link": true
    },
    "kernelspec": {
      "name": "python3",
      "display_name": "Python 3"
    },
    "language_info": {
      "name": "python"
    }
  },
  "cells": [
    {
      "cell_type": "markdown",
      "metadata": {
        "id": "view-in-github",
        "colab_type": "text"
      },
      "source": [
        "<a href=\"https://colab.research.google.com/github/nabilaszf/project-01/blob/main/LiveUTS_2430506058.ipynb\" target=\"_parent\"><img src=\"https://colab.research.google.com/assets/colab-badge.svg\" alt=\"Open In Colab\"/></a>"
      ]
    },
    {
      "cell_type": "code",
      "source": [
        "# Nomor 1\n",
        "NPM = int(input(\"Masukkan NPM Anda: \"))\n",
        "\n",
        "ganjil = NPM % 2 == 1\n",
        "genap = NPM % 2 == 0\n",
        "if ganjil == True:\n",
        "    print(\"Jumlah bilangan genap:\", ganjil)\n",
        "else:\n",
        "    print(\"Jumlah bilangan genap:\", genap)"
      ],
      "metadata": {
        "colab": {
          "base_uri": "https://localhost:8080/"
        },
        "id": "9hULvGFidqQ8",
        "outputId": "b35e9367-ce77-42dc-eee4-d868f0d62fe2"
      },
      "execution_count": null,
      "outputs": [
        {
          "output_type": "stream",
          "name": "stdout",
          "text": [
            "Masukkan NPM Anda: 2430506058\n",
            "Jumlah bilangan genap: True\n"
          ]
        }
      ]
    },
    {
      "cell_type": "code",
      "source": [
        "npm = int(input(\"Masukkan NPM Anda: \"))\n",
        "genap = 0\n",
        "ganjil = 0\n",
        "\n",
        "for digit in str(NPM):\n",
        "    if int(digit) % 2 == 0:\n",
        "        genap += 1\n",
        "        print(\"Jumlah bilangan genap:\", genap)\n",
        "    else:\n",
        "        ganjil += 1\n",
        "        print(\"Jumlah bilangan ganjil:\", ganjil)\n"
      ],
      "metadata": {
        "colab": {
          "base_uri": "https://localhost:8080/"
        },
        "id": "nlVPcLlkg0Sk",
        "outputId": "24f94d41-2e41-45d7-f446-720bc1efa54e"
      },
      "execution_count": null,
      "outputs": [
        {
          "output_type": "stream",
          "name": "stdout",
          "text": [
            "Masukkan NPM Anda: 2430506058\n",
            "Jumlah bilangan genap: 1\n",
            "Jumlah bilangan genap: 2\n",
            "Jumlah bilangan ganjil: 1\n",
            "Jumlah bilangan genap: 3\n",
            "Jumlah bilangan ganjil: 2\n",
            "Jumlah bilangan genap: 4\n",
            "Jumlah bilangan genap: 5\n",
            "Jumlah bilangan genap: 6\n",
            "Jumlah bilangan ganjil: 3\n",
            "Jumlah bilangan genap: 7\n"
          ]
        }
      ]
    },
    {
      "cell_type": "code",
      "source": [
        "# Perbaikan Nomor 1\n",
        "npm = input(\"Masukkan NPM Anda: \")\n",
        "\n",
        "genap = 0\n",
        "ganjil = 0\n",
        "\n",
        "for i in npm:\n",
        "  if int(i) % 2 == 0:\n",
        "    genap += 1\n",
        "  else:\n",
        "    ganjil += 1\n",
        "\n",
        "print(\"Jumlah bilangan genap:\", genap)\n",
        "print(\"Jumlah bilangan ganjil:\", ganjil)"
      ],
      "metadata": {
        "colab": {
          "base_uri": "https://localhost:8080/"
        },
        "id": "zd7Z6uIn6j39",
        "outputId": "cf7264a8-d094-4e40-818a-ffccc41fc860"
      },
      "execution_count": null,
      "outputs": [
        {
          "output_type": "stream",
          "name": "stdout",
          "text": [
            "Masukkan NPM Anda: 2430506058\n",
            "Jumlah bilangan genap: 7\n",
            "Jumlah bilangan ganjil: 3\n"
          ]
        }
      ]
    },
    {
      "cell_type": "code",
      "source": [
        "# Nomor 2\n",
        "n = int(input(\"Jumlah baris: \"))\n",
        "i = 1\n",
        "while i <= n:\n",
        "    j = 1\n",
        "    while j <= i:\n",
        "        print(i*j, end=\" \")\n",
        "        j += 1\n",
        "    print()\n",
        "    i += 1"
      ],
      "metadata": {
        "colab": {
          "base_uri": "https://localhost:8080/"
        },
        "id": "8AadcRHZiUHw",
        "outputId": "5e3a9874-f13e-4b25-ff5f-25c0cc92f3ec"
      },
      "execution_count": null,
      "outputs": [
        {
          "output_type": "stream",
          "name": "stdout",
          "text": [
            "Jumlah baris: 10\n",
            "1 \n",
            "2 4 \n",
            "3 6 9 \n",
            "4 8 12 16 \n",
            "5 10 15 20 25 \n",
            "6 12 18 24 30 36 \n",
            "7 14 21 28 35 42 49 \n",
            "8 16 24 32 40 48 56 64 \n",
            "9 18 27 36 45 54 63 72 81 \n",
            "10 20 30 40 50 60 70 80 90 100 \n"
          ]
        }
      ]
    },
    {
      "cell_type": "code",
      "source": [],
      "metadata": {
        "id": "IEEk8DpskxG0"
      },
      "execution_count": null,
      "outputs": []
    }
  ]
}