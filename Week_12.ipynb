{
  "nbformat": 4,
  "nbformat_minor": 0,
  "metadata": {
    "colab": {
      "provenance": [],
      "authorship_tag": "ABX9TyP33ydz4oOuJ/LYc/OUW7pE",
      "include_colab_link": true
    },
    "kernelspec": {
      "name": "python3",
      "display_name": "Python 3"
    },
    "language_info": {
      "name": "python"
    }
  },
  "cells": [
    {
      "cell_type": "markdown",
      "metadata": {
        "id": "view-in-github",
        "colab_type": "text"
      },
      "source": [
        "<a href=\"https://colab.research.google.com/github/nabilaszf/project-01/blob/main/Week_12.ipynb\" target=\"_parent\"><img src=\"https://colab.research.google.com/assets/colab-badge.svg\" alt=\"Open In Colab\"/></a>"
      ]
    },
    {
      "cell_type": "code",
      "execution_count": null,
      "metadata": {
        "id": "y9V-w9rrrgDG",
        "colab": {
          "base_uri": "https://localhost:8080/",
          "height": 141
        },
        "outputId": "1081da0d-42f6-4f8c-da07-e6fa1a76fada"
      },
      "outputs": [
        {
          "output_type": "error",
          "ename": "NameError",
          "evalue": "name 'x' is not defined",
          "traceback": [
            "\u001b[0;31m---------------------------------------------------------------------------\u001b[0m",
            "\u001b[0;31mNameError\u001b[0m                                 Traceback (most recent call last)",
            "\u001b[0;32m<ipython-input-1-fc17d851ef81>\u001b[0m in \u001b[0;36m<cell line: 1>\u001b[0;34m()\u001b[0m\n\u001b[0;32m----> 1\u001b[0;31m \u001b[0mprint\u001b[0m\u001b[0;34m(\u001b[0m\u001b[0mx\u001b[0m\u001b[0;34m)\u001b[0m\u001b[0;34m\u001b[0m\u001b[0;34m\u001b[0m\u001b[0m\n\u001b[0m",
            "\u001b[0;31mNameError\u001b[0m: name 'x' is not defined"
          ]
        }
      ],
      "source": [
        "print(x)"
      ]
    },
    {
      "cell_type": "code",
      "source": [
        "try:\n",
        "  print(x)\n",
        "except:\n",
        "  print(\"Variable x is not defined\")"
      ],
      "metadata": {
        "colab": {
          "base_uri": "https://localhost:8080/"
        },
        "id": "eIpfmFy2tDWK",
        "outputId": "89f4e529-2dd1-48cb-98bd-244890b96231"
      },
      "execution_count": null,
      "outputs": [
        {
          "output_type": "stream",
          "name": "stdout",
          "text": [
            "Variable x is not defined\n"
          ]
        }
      ]
    },
    {
      "cell_type": "code",
      "source": [
        "# Eksepsi Lebih dari Satu\n",
        "\n",
        "try:\n",
        "  print(x)\n",
        "except NameError:\n",
        "  print(\"Variable x is not defined\")\n",
        "except:\n",
        "  print(\"Something else went wrong\")"
      ],
      "metadata": {
        "colab": {
          "base_uri": "https://localhost:8080/"
        },
        "id": "f0LRUCUVtOBR",
        "outputId": "165e1a75-d670-4bde-862e-3b6c086f6e2d"
      },
      "execution_count": null,
      "outputs": [
        {
          "output_type": "stream",
          "name": "stdout",
          "text": [
            "Variable x is not defined\n"
          ]
        }
      ]
    },
    {
      "cell_type": "code",
      "source": [
        "# Else\n",
        "\n",
        "try:\n",
        "  print(\"Hello\")\n",
        "except:\n",
        "  print(\"Something went wrong\")\n",
        "else:\n",
        "  print(\"Nothing went wrong\")"
      ],
      "metadata": {
        "colab": {
          "base_uri": "https://localhost:8080/"
        },
        "id": "7ni4yjvUvrxU",
        "outputId": "068d4004-f02f-4c33-d799-f83f06e553f0"
      },
      "execution_count": null,
      "outputs": [
        {
          "output_type": "stream",
          "name": "stdout",
          "text": [
            "Hello\n",
            "Nothing went wrong\n"
          ]
        }
      ]
    },
    {
      "cell_type": "code",
      "source": [
        "# Finally\n",
        "\n",
        "\n",
        "try:\n",
        "  print(\"Hello\")\n",
        "except:\n",
        "  print(\"Something went wrong\")\n",
        "finally:\n",
        "  print(\"Execution Completed\")"
      ],
      "metadata": {
        "colab": {
          "base_uri": "https://localhost:8080/"
        },
        "id": "_Ro4yURov5hC",
        "outputId": "bba17066-5e7c-41cb-bf3f-b25200f9b1e2"
      },
      "execution_count": null,
      "outputs": [
        {
          "output_type": "stream",
          "name": "stdout",
          "text": [
            "Hello\n",
            "Execution Completed\n"
          ]
        }
      ]
    },
    {
      "cell_type": "code",
      "source": [
        "# Finally\n",
        "\n",
        "try:\n",
        "  print(x)\n",
        "except:\n",
        "  print(\"Something went wrong\")\n",
        "finally:\n",
        "  print(\"The 'try except' is finished\")"
      ],
      "metadata": {
        "colab": {
          "base_uri": "https://localhost:8080/"
        },
        "id": "PIwReI66v0Iy",
        "outputId": "899a5e7b-d4e0-45bf-bce4-d76d6a86ae92"
      },
      "execution_count": null,
      "outputs": [
        {
          "output_type": "stream",
          "name": "stdout",
          "text": [
            "Something went wrong\n",
            "The 'try except' is finished\n"
          ]
        }
      ]
    },
    {
      "cell_type": "code",
      "source": [
        "# Weekly Exercise 1\n",
        "\n",
        "import matematika\n",
        "\n",
        "def input_nilai(n):\n",
        "  while True:\n",
        "    nilai = input(n)\n",
        "    if not nilai:\n",
        "      print(\"Tidak boleh kosong!\")\n",
        "    else:\n",
        "        try:\n",
        "            return int(nilai)\n",
        "        except ValueError:\n",
        "            print(\"Hanya boleh memasukkan angka!\")\n",
        "\n",
        "print(\"Menghitung Luas Lingkaran\")\n",
        "jari_jari = input_nilai(\"Masukkan jari-jari lingkaran: \")\n",
        "luas = matematika.luas_lingkaran(jari_jari)\n",
        "print(f\"Luas Lingkaran dengan jari-jari {jari_jari} yaitu {luas}.\")\n",
        "\n",
        "print(\" \")\n",
        "print(\"Menghitung Luas Persegi\")\n",
        "sisi = input_nilai(\"Masukkan sisi persegi: \")\n",
        "luas = matematika.luas_persegi(sisi)\n",
        "print(f\"Luas Persegi dengan sisi {sisi} yaitu {luas}.\")\n"
      ],
      "metadata": {
        "id": "cgFc_9817mBR",
        "colab": {
          "base_uri": "https://localhost:8080/"
        },
        "outputId": "b8cd064b-067e-41f5-ab5b-42e72cca2be8"
      },
      "execution_count": 6,
      "outputs": [
        {
          "output_type": "stream",
          "name": "stdout",
          "text": [
            "Menghitung Luas Lingkaran\n",
            "Masukkan jari-jari lingkaran: \n",
            "Tidak boleh kosong!\n",
            "Masukkan jari-jari lingkaran: 10\n",
            "Luas Lingkaran dengan jari-jari 10 yaitu 314.0.\n",
            " \n",
            "Menghitung Luas Persegi\n",
            "Masukkan sisi persegi: bila\n",
            "Hanya boleh memasukkan angka!\n",
            "Masukkan sisi persegi: 5\n",
            "Luas Persegi dengan sisi 5 yaitu 25.\n"
          ]
        }
      ]
    },
    {
      "cell_type": "code",
      "source": [
        "# Weekly Exercise 2\n",
        "\n",
        "while True:\n",
        "  npm = input(\"Masukkan NPM Anda: \")\n",
        "  if not npm:\n",
        "    print(\"Tidak boleh kosong!\")\n",
        "  else:\n",
        "    try:\n",
        "      int(npm)\n",
        "    except ValueError:\n",
        "      print(\"Hanya boleh memasukkan angka!\")\n",
        "    else:\n",
        "        genap = 0\n",
        "        ganjil = 0\n",
        "        for i in npm:\n",
        "            if int(i) % 2 == 0:\n",
        "              genap += 1\n",
        "            else:\n",
        "              ganjil += 1\n",
        "\n",
        "        print(\"Jumlah bilangan genap:\", genap)\n",
        "        print(\"Jumlah bilangan ganjil:\", ganjil)\n",
        "        break\n"
      ],
      "metadata": {
        "id": "HefixqB80j5t",
        "colab": {
          "base_uri": "https://localhost:8080/"
        },
        "outputId": "00dc3053-eef1-4d51-ff5e-d546b94306b8"
      },
      "execution_count": 16,
      "outputs": [
        {
          "output_type": "stream",
          "name": "stdout",
          "text": [
            "Masukkan NPM Anda: \n",
            "Tidak boleh kosong!\n",
            "Masukkan NPM Anda: bila\n",
            "Hanya boleh memasukkan angka!\n",
            "Masukkan NPM Anda: 2430506058\n",
            "Jumlah bilangan genap: 7\n",
            "Jumlah bilangan ganjil: 3\n"
          ]
        }
      ]
    },
    {
      "cell_type": "code",
      "source": [],
      "metadata": {
        "id": "7mq7WxUjFIVR"
      },
      "execution_count": null,
      "outputs": []
    }
  ]
}