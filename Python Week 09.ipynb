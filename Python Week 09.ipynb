{
  "nbformat": 4,
  "nbformat_minor": 0,
  "metadata": {
    "colab": {
      "provenance": [],
      "authorship_tag": "ABX9TyOmm4ceeRtBar1+y3n9dXSL",
      "include_colab_link": true
    },
    "kernelspec": {
      "name": "python3",
      "display_name": "Python 3"
    },
    "language_info": {
      "name": "python"
    }
  },
  "cells": [
    {
      "cell_type": "markdown",
      "metadata": {
        "id": "view-in-github",
        "colab_type": "text"
      },
      "source": [
        "<a href=\"https://colab.research.google.com/github/nabilaszf/project-01/blob/main/Week_09.ipynb\" target=\"_parent\"><img src=\"https://colab.research.google.com/assets/colab-badge.svg\" alt=\"Open In Colab\"/></a>"
      ]
    },
    {
      "cell_type": "code",
      "execution_count": null,
      "metadata": {
        "colab": {
          "base_uri": "https://localhost:8080/"
        },
        "id": "yBaBxa8okF7M",
        "outputId": "4c8e01d3-2f3c-4ce1-d058-3856cccbf7ac"
      },
      "outputs": [
        {
          "output_type": "stream",
          "name": "stdout",
          "text": [
            "['apel', 'mangga', 'jambu']\n"
          ]
        }
      ],
      "source": [
        "# Membuat list\n",
        "\n",
        "listini = [\"apel\", \"mangga\", \"jambu\"]\n",
        "print(listini)"
      ]
    },
    {
      "cell_type": "code",
      "source": [
        "# List bisa mencetak ganda\n",
        "\n",
        "listini = [\"apel\", \"mangga\", \"jambu\", \"mangga\"]\n",
        "print(listini)"
      ],
      "metadata": {
        "colab": {
          "base_uri": "https://localhost:8080/"
        },
        "id": "CNRkAIilkeT-",
        "outputId": "d790cbee-26bc-4d00-af87-a087778beb4b"
      },
      "execution_count": null,
      "outputs": [
        {
          "output_type": "stream",
          "name": "stdout",
          "text": [
            "['apel', 'mangga', 'jambu', 'mangga']\n"
          ]
        }
      ]
    },
    {
      "cell_type": "code",
      "source": [
        "# Menghitung banyaknya item dalam list\n",
        "print(len(listini))"
      ],
      "metadata": {
        "colab": {
          "base_uri": "https://localhost:8080/"
        },
        "id": "tDmR87mCkoiV",
        "outputId": "15169b80-c4a1-4f23-9f56-8f046cc63c84"
      },
      "execution_count": null,
      "outputs": [
        {
          "output_type": "stream",
          "name": "stdout",
          "text": [
            "4\n"
          ]
        }
      ]
    },
    {
      "cell_type": "code",
      "source": [
        "# Macam-macam tipe data dalam list\n",
        "list1 = [\"apel\", \"mangga\", \"jambu\"]\n",
        "list2 = [1, 5, 7, 9, 3]\n",
        "list3 = [True, False, False]\n",
        "\n",
        "print(list1)\n",
        "print(list2)\n",
        "print(list3)"
      ],
      "metadata": {
        "colab": {
          "base_uri": "https://localhost:8080/"
        },
        "id": "6iSHynHpkwjY",
        "outputId": "dac325a1-5fa1-4f44-cf41-fff0528ae276"
      },
      "execution_count": null,
      "outputs": [
        {
          "output_type": "stream",
          "name": "stdout",
          "text": [
            "['apel', 'mangga', 'jambu']\n",
            "[1, 5, 7, 9, 3]\n",
            "[True, False, False]\n"
          ]
        }
      ]
    },
    {
      "cell_type": "code",
      "source": [
        "# List dengan tipe data yang berbeda\n",
        "\n",
        "list1 = [\"abc\", \"34\", True, 40, \"male\"]\n",
        "print(list1)"
      ],
      "metadata": {
        "colab": {
          "base_uri": "https://localhost:8080/"
        },
        "id": "3wLwnCmvk7OT",
        "outputId": "33775cb2-3bc9-4c02-828b-3cb4de9ac43f"
      },
      "execution_count": null,
      "outputs": [
        {
          "output_type": "stream",
          "name": "stdout",
          "text": [
            "['abc', '34', True, 40, 'male']\n"
          ]
        }
      ]
    },
    {
      "cell_type": "code",
      "source": [
        "# Mengetahui tipe data list\n",
        "list1 = [\"apel\", \"mangga\", \"jambu\"]\n",
        "print(type(list1))"
      ],
      "metadata": {
        "colab": {
          "base_uri": "https://localhost:8080/"
        },
        "id": "QeMj0X4IlaZf",
        "outputId": "b4a3b0a0-386f-4985-eed3-6a2ec963e75d"
      },
      "execution_count": null,
      "outputs": [
        {
          "output_type": "stream",
          "name": "stdout",
          "text": [
            "<class 'list'>\n"
          ]
        }
      ]
    },
    {
      "cell_type": "code",
      "source": [
        "print(list1[0])"
      ],
      "metadata": {
        "colab": {
          "base_uri": "https://localhost:8080/"
        },
        "id": "itceXBI7l7HL",
        "outputId": "4bc8629b-81dd-4b05-ed0c-ade9fdd6e275"
      },
      "execution_count": null,
      "outputs": [
        {
          "output_type": "stream",
          "name": "stdout",
          "text": [
            "apel\n"
          ]
        }
      ]
    },
    {
      "cell_type": "code",
      "source": [
        "print(list1[1])"
      ],
      "metadata": {
        "colab": {
          "base_uri": "https://localhost:8080/"
        },
        "id": "QQrpMkznnIFs",
        "outputId": "5bb2f496-0a8f-4502-f886-485f4bc9cab8"
      },
      "execution_count": null,
      "outputs": [
        {
          "output_type": "stream",
          "name": "stdout",
          "text": [
            "mangga\n"
          ]
        }
      ]
    },
    {
      "cell_type": "code",
      "source": [
        "print(list1[-1])"
      ],
      "metadata": {
        "colab": {
          "base_uri": "https://localhost:8080/"
        },
        "id": "rrekxWeEnL8G",
        "outputId": "54489ff5-9ac3-45a7-b5c5-33d0214b8f7b"
      },
      "execution_count": null,
      "outputs": [
        {
          "output_type": "stream",
          "name": "stdout",
          "text": [
            "jambu\n"
          ]
        }
      ]
    },
    {
      "cell_type": "code",
      "source": [
        "listsatu = [\"apel\", \"mangga\", \"jambu\", \"pisang\", \"jeruk\"]\n",
        "print(listsatu[2:5])"
      ],
      "metadata": {
        "colab": {
          "base_uri": "https://localhost:8080/"
        },
        "id": "8OVs-9rHnWru",
        "outputId": "4f606efe-113d-4b54-daf3-e49f5471d59e"
      },
      "execution_count": null,
      "outputs": [
        {
          "output_type": "stream",
          "name": "stdout",
          "text": [
            "['jambu', 'pisang', 'jeruk']\n"
          ]
        }
      ]
    },
    {
      "cell_type": "code",
      "source": [
        "print(listsatu[:4])"
      ],
      "metadata": {
        "colab": {
          "base_uri": "https://localhost:8080/"
        },
        "id": "XPovjjHVne7U",
        "outputId": "6e6e7d93-919b-45f3-9666-9b8e682fddc5"
      },
      "execution_count": null,
      "outputs": [
        {
          "output_type": "stream",
          "name": "stdout",
          "text": [
            "['apel', 'mangga', 'jambu', 'pisang']\n"
          ]
        }
      ]
    },
    {
      "cell_type": "code",
      "source": [
        "print(listsatu[2:])"
      ],
      "metadata": {
        "colab": {
          "base_uri": "https://localhost:8080/"
        },
        "id": "MRS9wltjnoTQ",
        "outputId": "2149ea91-b89a-42c0-d8ad-1221a072ce30"
      },
      "execution_count": null,
      "outputs": [
        {
          "output_type": "stream",
          "name": "stdout",
          "text": [
            "['jambu', 'pisang', 'jeruk']\n"
          ]
        }
      ]
    },
    {
      "cell_type": "code",
      "source": [
        "# Check if \"apple\" is present in the lits:\n",
        "if \"mangga\" in listsatu:\n",
        "    print(\"Yes, 'mangga' is in the fruits list\")\n",
        "else :\n",
        "    print(\"No, 'mangga' is not in the fruits list\")"
      ],
      "metadata": {
        "colab": {
          "base_uri": "https://localhost:8080/"
        },
        "id": "XW383BchnuqE",
        "outputId": "d878c8ae-cce1-4853-c909-ba5d375d0154"
      },
      "execution_count": null,
      "outputs": [
        {
          "output_type": "stream",
          "name": "stdout",
          "text": [
            "Yes, 'mangga' is in the fruits list\n"
          ]
        }
      ]
    },
    {
      "cell_type": "code",
      "source": [
        "#Check if \"apple\" is present in the list:\n",
        "if \"durian\" in listsatu:\n",
        "  print(\"Yes, 'durian' is in the fruits list\")\n",
        "else :\n",
        "  print(\"No\")"
      ],
      "metadata": {
        "colab": {
          "base_uri": "https://localhost:8080/"
        },
        "id": "2yO8cv9DoAym",
        "outputId": "03a6347f-8d4b-42e3-87ab-2d34d2e090a6"
      },
      "execution_count": null,
      "outputs": [
        {
          "output_type": "stream",
          "name": "stdout",
          "text": [
            "No\n"
          ]
        }
      ]
    },
    {
      "cell_type": "code",
      "source": [
        "thislist = [\"apple\", \"banana\", \"cherry\", \"orange\", \"kiwi\", \"melon\", \"mango\"]\n",
        "print(thislist)"
      ],
      "metadata": {
        "colab": {
          "base_uri": "https://localhost:8080/"
        },
        "id": "stzRKHKWoEhv",
        "outputId": "049cf8ef-0ede-4b09-f098-048618bf5ca7"
      },
      "execution_count": null,
      "outputs": [
        {
          "output_type": "stream",
          "name": "stdout",
          "text": [
            "['apple', 'banana', 'cherry', 'orange', 'kiwi', 'melon', 'mango']\n"
          ]
        }
      ]
    },
    {
      "cell_type": "code",
      "source": [
        "thislist[1] = \"blackcurrant\"\n",
        "print(thislist)"
      ],
      "metadata": {
        "colab": {
          "base_uri": "https://localhost:8080/"
        },
        "id": "p3zqr8uaoLqx",
        "outputId": "61cb4552-5884-447e-aae2-578ac5bff691"
      },
      "execution_count": null,
      "outputs": [
        {
          "output_type": "stream",
          "name": "stdout",
          "text": [
            "['apple', 'blackcurrant', 'cherry', 'orange', 'kiwi', 'melon', 'mango']\n"
          ]
        }
      ]
    },
    {
      "cell_type": "code",
      "source": [
        "#Change the values \"blackcurrant\" and \"cherry\" with the values \"banana\" and \"watermelon\":\n",
        "thislist[1:3] = [\"banana\", \"watermelon\"]\n",
        "print(thislist)"
      ],
      "metadata": {
        "colab": {
          "base_uri": "https://localhost:8080/"
        },
        "id": "1ppMEnkSoN48",
        "outputId": "bfae1f85-077f-47da-d25d-df518892156e"
      },
      "execution_count": null,
      "outputs": [
        {
          "output_type": "stream",
          "name": "stdout",
          "text": [
            "['apple', 'banana', 'watermelon', 'orange', 'kiwi', 'melon', 'mango']\n"
          ]
        }
      ]
    },
    {
      "cell_type": "code",
      "source": [
        "thislist[1:2] = [\"blackcurrant\", \"dragonfruit\"]\n",
        "print(thislist)"
      ],
      "metadata": {
        "id": "JmsFJVx0oTcr",
        "outputId": "b983824e-5bb7-4d70-9697-040445862c79",
        "colab": {
          "base_uri": "https://localhost:8080/"
        }
      },
      "execution_count": null,
      "outputs": [
        {
          "output_type": "stream",
          "name": "stdout",
          "text": [
            "['apple', 'blackcurrant', 'dragonfruit', 'watermelon', 'orange', 'kiwi', 'melon', 'mango']\n"
          ]
        }
      ]
    },
    {
      "cell_type": "code",
      "source": [
        "mahasiswa = {\n",
        "   \"nama\" : \"Nabila Syafiqah Zahran Firlina\",\n",
        "   \"kelas\" : \"Rombel 1\",\n",
        "   \"tanggal_lahir\" : \"7 Januari 2006\",\n",
        "   \"no_hp\" : \"08123456789\",\n",
        "   \"alamat\" : \"Kramat Selatan, Magelang Utara, Kota Magelang, Jawa Tengah\",\n",
        "   \"hobi\" : [\"Membaca buku\", \"Mendengarkan musik\",]\n",
        "}\n",
        "\n",
        "for key, value in mahasiswa.items():\n",
        "    if key == \"hobi\":\n",
        "        print(f\"{key.capitalize()}:\")\n",
        "        for hobi in value:\n",
        "            print(f\"- {hobi}\")\n",
        "    else:\n",
        "        print(f\"{key}: {value}\")\n",
        "\n"
      ],
      "metadata": {
        "id": "588LkpUSoWUX",
        "colab": {
          "base_uri": "https://localhost:8080/"
        },
        "outputId": "ac85ec9f-2180-491b-c706-b0a6fd7e9b28"
      },
      "execution_count": null,
      "outputs": [
        {
          "output_type": "stream",
          "name": "stdout",
          "text": [
            "nama: Nabila Syafiqah Zahran Firlina\n",
            "kelas: Rombel 1\n",
            "tanggal_lahir: 7 Januari 2006\n",
            "no_hp: 08123456789\n",
            "alamat: Kramat Selatan, Magelang Utara, Kota Magelang, Jawa Tengah\n",
            "Hobi:\n",
            "- Membaca buku\n",
            "- Mendengarkan musik\n"
          ]
        }
      ]
    },
    {
      "cell_type": "code",
      "source": [
        "data = [\n",
        "  {\n",
        "    \"Nama\"         : \"Nabila Syafiqah Zahran Firlina\",\n",
        "    \"Kelas\"        : \"Rombel 1\",\n",
        "    \"Tanggal Lahir\": \"7 Januari 2006\",\n",
        "    \"No HP\"        : \"08123456789\",\n",
        "    \"Alamat\"       : \"Kramat Selatan, Magelang Utara, Kota Magelang, Jawa Tengah\",\n",
        "    \"Hobi\"         : [\"Menulis\", \"Mendengarkan musik\", \"Membaca buku\"]\n",
        "  }\n",
        "]\n",
        "\n",
        "for mahasiswa in data:\n",
        "  for x, y in mahasiswa.items():\n",
        "    if x == \"Hobi\":\n",
        "      print(f\"{x} :\")\n",
        "      a = 1\n",
        "      for hobi in y:\n",
        "        print(f\"  {a}. {hobi}\")\n",
        "        a += 1\n",
        "    else:\n",
        "      print(f\"{x} : {y}\")\n",
        "  print()\n"
      ],
      "metadata": {
        "colab": {
          "base_uri": "https://localhost:8080/"
        },
        "id": "PzfjnzUofLAk",
        "outputId": "34570c8e-6bbf-4107-dc66-cf08f66cac2f"
      },
      "execution_count": null,
      "outputs": [
        {
          "output_type": "stream",
          "name": "stdout",
          "text": [
            "Nama : Nabila Syafiqah Zahran Firlina\n",
            "Kelas : Rombel 1\n",
            "Tanggal Lahir : 7 Januari 2006\n",
            "No HP : 08123456789\n",
            "Alamat : Kramat Selatan, Magelang Utara, Kota Magelang, Jawa Tengah\n",
            "Hobi :\n",
            "  1. Menulis\n",
            "  2. Mendengarkan musik\n",
            "  3. Membaca buku\n",
            "\n"
          ]
        }
      ]
    },
    {
      "cell_type": "code",
      "source": [],
      "metadata": {
        "id": "EtN1T_Fngunt"
      },
      "execution_count": null,
      "outputs": []
    }
  ]
}
