{
  "nbformat": 4,
  "nbformat_minor": 0,
  "metadata": {
    "colab": {
      "provenance": [],
      "authorship_tag": "ABX9TyMfFwSxHdj0+ZoZeRdOUO4r",
      "include_colab_link": true
    },
    "kernelspec": {
      "name": "python3",
      "display_name": "Python 3"
    },
    "language_info": {
      "name": "python"
    }
  },
  "cells": [
    {
      "cell_type": "markdown",
      "metadata": {
        "id": "view-in-github",
        "colab_type": "text"
      },
      "source": [
        "<a href=\"https://colab.research.google.com/github/nabilaszf/project-01/blob/main/Phyton%20Week%2005.ipynb\" target=\"_parent\"><img src=\"https://colab.research.google.com/assets/colab-badge.svg\" alt=\"Open In Colab\"/></a>"
      ]
    },
    {
      "cell_type": "markdown",
      "source": [
        "## Nested IF in Python"
      ],
      "metadata": {
        "id": "nVq-4gogUV15"
      }
    },
    {
      "cell_type": "code",
      "execution_count": null,
      "metadata": {
        "id": "00TZoT_MToRf"
      },
      "outputs": [],
      "source": [
        "# Contoh Syntax menggunakan Nested_If\n",
        "\n",
        "if condition_1:\n",
        "    if condition_1_a:\n",
        "        ...\n",
        "    elif condition_1_b:\n",
        "        ...\n",
        "    else:\n",
        "        ...\n",
        "elif condition_2:\n",
        "    if condition_2_a:\n",
        "        ...\n",
        "    else:\n",
        "        ...\n",
        "elif condition_3:\n",
        "    if condition_3_a:\n",
        "        ...\n",
        "else:\n",
        "    ...\n"
      ]
    },
    {
      "cell_type": "code",
      "source": [
        "# Example 1 (Number Checker)\n",
        "\n",
        "num = 8\n",
        "\n",
        "if num > 0:\n",
        "   print(\"The number is positive.\")\n",
        "else:\n",
        "   if num < 0:\n",
        "      print(\"The number is negative.\")\n",
        "   else:\n",
        "      print(\"The number is zero.\")"
      ],
      "metadata": {
        "colab": {
          "base_uri": "https://localhost:8080/"
        },
        "id": "5ci4IziDX5IT",
        "outputId": "3e57bf06-ee6f-4262-f935-09816404f3b5"
      },
      "execution_count": null,
      "outputs": [
        {
          "output_type": "stream",
          "name": "stdout",
          "text": [
            "The number is positive.\n"
          ]
        }
      ]
    },
    {
      "cell_type": "code",
      "source": [
        "# Example 2 (Age Classifier)\n",
        "\n",
        "umur = 31\n",
        "\n",
        "if umur >= 60:\n",
        "    print(\"Anda sudah menjadi lansia.\")\n",
        "else:\n",
        "    if umur >= 18:\n",
        "        print(\"Anda sudah menjadi dewasa.\")\n",
        "    else:\n",
        "        print(\"Anda masih anak-anak.\")\n",
        "\n"
      ],
      "metadata": {
        "colab": {
          "base_uri": "https://localhost:8080/"
        },
        "id": "dmHvgdWnYNwV",
        "outputId": "00f8e540-6aff-4965-e282-70119e4cbbe0"
      },
      "execution_count": null,
      "outputs": [
        {
          "output_type": "stream",
          "name": "stdout",
          "text": [
            "Anda sudah menjadi dewasa.\n"
          ]
        }
      ]
    },
    {
      "cell_type": "markdown",
      "source": [
        "#### Quiz on Nested-If"
      ],
      "metadata": {
        "id": "Ct84setaYvrv"
      }
    },
    {
      "cell_type": "code",
      "source": [
        "username = input(\"Enter your username: \")\n",
        "password = input(\"Enter your password: \")\n",
        "\n",
        "if username == \"admin\":\n",
        "    if password == \"password\":\n",
        "        print(\"Login successful! Welcome, admin.\")\n",
        "    elif password == \"12345\":\n",
        "        print(\"Weak password. Please reset your password.\")\n",
        "    else:\n",
        "        print(\"Incorrect password. Please try again.\")\n",
        "else:\n",
        "    if username == \"guest\":\n",
        "        if password == \"guest\":\n",
        "            print(\"Login successful! Welcome, guest.\")\n",
        "        else:\n",
        "            print(\"Incorrect password. Please try again.\")\n",
        "    else:\n",
        "        print(\"Unknown user. Please try again.\")"
      ],
      "metadata": {
        "colab": {
          "base_uri": "https://localhost:8080/"
        },
        "id": "0LooNDgAYqaN",
        "outputId": "e14b302b-c7f9-497e-91ef-e07f550c8f7f"
      },
      "execution_count": null,
      "outputs": [
        {
          "output_type": "stream",
          "name": "stdout",
          "text": [
            "Enter your username: admin\n",
            "Enter your password: password\n",
            "Login successful! Welcome, admin.\n"
          ]
        }
      ]
    },
    {
      "cell_type": "markdown",
      "source": [
        "\n",
        "#### Quiz on Nested If"
      ],
      "metadata": {
        "id": "woaHbJqEemWE"
      }
    },
    {
      "cell_type": "code",
      "source": [
        "try:\n",
        "    angka = int(input(\"Masukkan sebuah angka: \"))\n",
        "\n",
        "    if angka < 0:\n",
        "        print(\"Angka yang dimasukkan merupakan bilangan negatif.\")\n",
        "    else:\n",
        "        if angka == 0:\n",
        "            print(\"Angka yang dimasukkan adalah nol.\")\n",
        "        else:\n",
        "            print(\"Angka yang dimasukkan merupakan bilangan positif.\")\n",
        "            if angka % 2 == 0:\n",
        "                print(f\"Angka {angka} yang dimasukkan merupakan bilangan genap.\")\n",
        "            else:\n",
        "                print(f\"Angka {angka} yang dimasukkan merupakan bilangan ganjil.\")\n",
        "except ValueError:\n",
        "    print(\"Angka yang dimasukkan bukan merupakan bilangan bulat.\")"
      ],
      "metadata": {
        "colab": {
          "base_uri": "https://localhost:8080/"
        },
        "id": "lY6U4WLFXkYS",
        "outputId": "4fb4c49f-afdc-4035-f7a8-298e9871b112"
      },
      "execution_count": null,
      "outputs": [
        {
          "output_type": "stream",
          "name": "stdout",
          "text": [
            "Masukkan sebuah angka: 76\n",
            "Angka yang dimasukkan merupakan bilangan positif.\n",
            "Angka 76 yang dimasukkan merupakan bilangan genap.\n"
          ]
        }
      ]
    },
    {
      "cell_type": "code",
      "source": [
        "# Weekly Exercise 1\n",
        "\n",
        "tahun = int(input(\"Masukkan tahun: \"))\n",
        "\n",
        "if tahun % 4 == 0:\n",
        "  if tahun % 100 == 0:\n",
        "    if tahun % 400 == 0:\n",
        "      print(\"Tahun kabisat.\")\n",
        "    else:\n",
        "      print(\"Bukan tahun kabisat.\")\n",
        "  else:\n",
        "    print(\"Tahun kabisat.\")\n",
        "else:\n",
        "  print(\"Bukan tahun kabisat.\")"
      ],
      "metadata": {
        "colab": {
          "base_uri": "https://localhost:8080/"
        },
        "id": "xzqua3mGlREC",
        "outputId": "46eab618-73c2-4cf2-dae2-cd7d02fe2db4"
      },
      "execution_count": null,
      "outputs": [
        {
          "output_type": "stream",
          "name": "stdout",
          "text": [
            "Masukkan tahun: 2024\n",
            "Tahun kabisat.\n"
          ]
        }
      ]
    },
    {
      "cell_type": "code",
      "source": [
        "# Weekly Exercise 2\n",
        "\n",
        "angka_pertama = float(input(\"Masukkan angka pertama: \"))\n",
        "angka_kedua = float(input(\"Masukkan angka kedua: \"))\n",
        "angka_ketiga = float(input(\"Masukkan angka ketiga: \"))\n",
        "\n",
        "if angka_pertama >= angka_kedua and angka_pertama >= angka_ketiga:\n",
        "  terbesar = angka_pertama\n",
        "elif angka_kedua >= angka_pertama and angka_kedua >= angka_ketiga:\n",
        "  terbesar = angka_kedua\n",
        "else:\n",
        "  terbesar = angka_ketiga\n",
        "\n",
        "print(\"Angka terbesar adalah\", terbesar)\n",
        "\n"
      ],
      "metadata": {
        "id": "hbqBmEw9kwsd",
        "colab": {
          "base_uri": "https://localhost:8080/"
        },
        "outputId": "1e0ec7c2-3d2d-4fae-fcc0-ba2205fdfadb"
      },
      "execution_count": null,
      "outputs": [
        {
          "output_type": "stream",
          "name": "stdout",
          "text": [
            "Masukkan angka pertama: 5\n",
            "Masukkan angka kedua: 6\n",
            "Masukkan angka ketiga: 9\n",
            "Angka terbesar adalah 9.0\n"
          ]
        }
      ]
    },
    {
      "cell_type": "code",
      "source": [
        "# Weekly Exercise 3\n",
        "\n",
        "member = input(\"Apakah anda merupakan member? (ya/tidak): \")\n",
        "if member == \"ya\":\n",
        "  total_belanja = float(input(\"Masukkan total belanja: \"))\n",
        "  if total_belanja >= 100000:\n",
        "    diskon = total_belanja * 0.05\n",
        "    total_bayar = total_belanja - diskon\n",
        "  elif total_belanja >= 200000:\n",
        "    diskon = total_belanja * 0.06\n",
        "if member == \"tidak\":\n",
        "  total_belanja = float(input(\"Masukkan total belanja: \"))\n",
        "  if total_belanja >= 100000:\n",
        "    diskon = total_belanja * 0.03\n",
        "    total_bayar = total_belanja - diskon\n",
        "  elif total_belanja >= 200000:\n",
        "    diskon = total_belanja * 0.04\n",
        "    total_bayar = total_belanja - diskon\n",
        "print(\"Total bayar:\", total_bayar)\n"
      ],
      "metadata": {
        "colab": {
          "base_uri": "https://localhost:8080/"
        },
        "id": "ZR9huyLmxKjl",
        "outputId": "9a0b6a2d-420a-4024-efa7-8b9803fc9e3b"
      },
      "execution_count": null,
      "outputs": [
        {
          "output_type": "stream",
          "name": "stdout",
          "text": [
            "Apakah anda merupakan member? (ya/tidak): ya\n",
            "Masukkan total belanja: 500000\n",
            "Total bayar: 475000.0\n"
          ]
        }
      ]
    },
    {
      "cell_type": "code",
      "source": [
        "# Weekly Exercise 4\n",
        "\n",
        "username = input(\"Masukkan username: \")\n",
        "email = input(\"Masukkan email: \")\n",
        "password = input(\"Masukkan password : \")\n",
        "\n",
        "if not username:\n",
        "  print(\"Username tidak boleh kosong. Silakan coba lagi.\")\n",
        "elif \"@\" not in email:\n",
        "  print(\"Email harus mengandung '@'. Silakan coba lagi.\")\n",
        "elif len(password) <= 8:\n",
        "  print(\"Password harus lebih dari 8 karakter. Silakan coba lagi.\")\n",
        "else:\n",
        "  print(\"User baru berhasil dibuat!\")"
      ],
      "metadata": {
        "id": "-2RES5V70Cnq",
        "colab": {
          "base_uri": "https://localhost:8080/"
        },
        "outputId": "64e24b66-15dd-4f61-ce9a-5d9381fc1fca"
      },
      "execution_count": null,
      "outputs": [
        {
          "output_type": "stream",
          "name": "stdout",
          "text": [
            "Masukkan username: bilasyz\n",
            "Masukkan email: nabilazahran@gmail.com\n",
            "Masukkan password : 123456789\n",
            "User baru berhasil dibuat!\n"
          ]
        }
      ]
    },
    {
      "cell_type": "code",
      "source": [],
      "metadata": {
        "id": "5A17Z3w2GMCE"
      },
      "execution_count": null,
      "outputs": []
    }
  ]
}