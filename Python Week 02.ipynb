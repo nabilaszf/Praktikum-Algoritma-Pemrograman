{
  "nbformat": 4,
  "nbformat_minor": 0,
  "metadata": {
    "colab": {
      "provenance": [],
      "authorship_tag": "ABX9TyPIpSommSSl08KkI/i+KbHD",
      "include_colab_link": true
    },
    "kernelspec": {
      "name": "python3",
      "display_name": "Python 3"
    },
    "language_info": {
      "name": "python"
    }
  },
  "cells": [
    {
      "cell_type": "markdown",
      "metadata": {
        "id": "view-in-github",
        "colab_type": "text"
      },
      "source": [
        "<a href=\"https://colab.research.google.com/github/nabilaszf/project-01/blob/main/Phyton%20Week%2002.ipynb\" target=\"_parent\"><img src=\"https://colab.research.google.com/assets/colab-badge.svg\" alt=\"Open In Colab\"/></a>"
      ]
    },
    {
      "cell_type": "code",
      "source": [
        "# Mengecek Tipe Data\n",
        "\n",
        "type(-9)"
      ],
      "metadata": {
        "colab": {
          "base_uri": "https://localhost:8080/"
        },
        "id": "HD51JSQ_XSqq",
        "outputId": "0d088ec5-b854-421f-815b-9f26f8fa55c3"
      },
      "execution_count": 23,
      "outputs": [
        {
          "output_type": "execute_result",
          "data": {
            "text/plain": [
              "int"
            ]
          },
          "metadata": {},
          "execution_count": 23
        }
      ]
    },
    {
      "cell_type": "code",
      "source": [
        "# Mengecek Tipe Data\n",
        "\n",
        "type(2.5)"
      ],
      "metadata": {
        "colab": {
          "base_uri": "https://localhost:8080/"
        },
        "id": "EIir1DcYUb-6",
        "outputId": "756589d9-b7b0-4902-8727-4b14dd05bc2f"
      },
      "execution_count": 24,
      "outputs": [
        {
          "output_type": "execute_result",
          "data": {
            "text/plain": [
              "float"
            ]
          },
          "metadata": {},
          "execution_count": 24
        }
      ]
    },
    {
      "cell_type": "code",
      "source": [
        "# Mengecek Tipe Data\n",
        "\n",
        "type(\"Hello, World!\")\n"
      ],
      "metadata": {
        "colab": {
          "base_uri": "https://localhost:8080/"
        },
        "id": "dj2bhHi2Ub4-",
        "outputId": "29707f6f-615f-4c39-ab47-380ca0fb739b"
      },
      "execution_count": 27,
      "outputs": [
        {
          "output_type": "execute_result",
          "data": {
            "text/plain": [
              "str"
            ]
          },
          "metadata": {},
          "execution_count": 27
        }
      ]
    },
    {
      "cell_type": "code",
      "source": [
        "# Operasi Bilangan pada Python\n",
        "\n",
        "43 + 60 + 16 + 41\n",
        "\n"
      ],
      "metadata": {
        "colab": {
          "base_uri": "https://localhost:8080/"
        },
        "id": "ij7Ziq83VTf4",
        "outputId": "3bc9cac3-da7b-4ed2-f421-9c6b37810351"
      },
      "execution_count": 28,
      "outputs": [
        {
          "output_type": "execute_result",
          "data": {
            "text/plain": [
              "160"
            ]
          },
          "metadata": {},
          "execution_count": 28
        }
      ]
    },
    {
      "cell_type": "code",
      "source": [
        "# Operasi Bilangan pada Python\n",
        "\n",
        "x = 45 * 10 + 100 // 10\n",
        "x"
      ],
      "metadata": {
        "colab": {
          "base_uri": "https://localhost:8080/"
        },
        "id": "UIsvuNMIVTcg",
        "outputId": "5e440987-7c3d-4d98-825d-809843451830"
      },
      "execution_count": 29,
      "outputs": [
        {
          "output_type": "execute_result",
          "data": {
            "text/plain": [
              "460"
            ]
          },
          "metadata": {},
          "execution_count": 29
        }
      ]
    },
    {
      "cell_type": "markdown",
      "source": [
        "## Weekly Exercise 1"
      ],
      "metadata": {
        "id": "JUTFohOXAqmn"
      }
    },
    {
      "cell_type": "code",
      "source": [
        "panjang = 20.5\n",
        "lebar = 25\n",
        "tinggi = 10\n",
        "\n",
        "keliling = 2 *(panjang + lebar)\n",
        "luas = panjang * lebar\n",
        "volume = panjang*lebar*tinggi\n",
        "\n",
        "print(\"panjang = \" + str(panjang))\n",
        "print(\"lebar = \" + str(lebar))\n",
        "print(\"tinggi = \" + str(tinggi))\n",
        "print(\"keliling = \" + str(keliling))\n",
        "print(\"volume = \" + str(volume))"
      ],
      "metadata": {
        "colab": {
          "base_uri": "https://localhost:8080/"
        },
        "id": "cU_Tz94K8yOd",
        "outputId": "ad61ade6-0bf2-4968-dbc8-7e28d4ca163f"
      },
      "execution_count": null,
      "outputs": [
        {
          "output_type": "stream",
          "name": "stdout",
          "text": [
            "panjang = 20.5\n",
            "lebar = 25\n",
            "tinggi = 10\n",
            "keliling = 91.0\n",
            "volume = 5125.0\n"
          ]
        }
      ]
    },
    {
      "cell_type": "markdown",
      "source": [
        "## Weekly Exercise 2"
      ],
      "metadata": {
        "id": "NFr7fZI5Tmjc"
      }
    },
    {
      "cell_type": "code",
      "source": [
        "# Membuat sebuah program untuk menampilkan data-data pada tabel\n",
        "\n",
        "kal_shafira = 85\n",
        "stat_shafira = 75\n",
        "kal_amanda = 80\n",
        "stat_amanda = 90\n",
        "kal_aditya = 75\n",
        "stat_aditya = 80\n",
        "kal_nedia = 95\n",
        "stat_nedia = 80\n",
        "kal_widya = 85\n",
        "stat_widya = 85\n",
        "kal_hanif = 75\n",
        "stat_hanif = 90\n",
        "kal_andi = 70\n",
        "stat_andi = 75\n",
        "kal_dhanar = 85\n",
        "stat_dhanar = 85\n",
        "kal_hikma = 80\n",
        "stat_hikma = 75\n",
        "\n",
        "rata_rata_nilai_shafira = (kal_shafira + stat_shafira) / 2\n",
        "jumlah_nilai_hanif= (kal_hanif + stat_hanif)\n",
        "jumlah_nilai_andi = (kal_andi + stat_andi)\n",
        "jumlah_nilai_kal_widya_dhanar_hikma_nedia = (kal_widya + kal_dhanar + kal_hikma + kal_nedia)\n",
        "jumlah_nilai_stat_widya_dhanar_hikma_nedia = (stat_widya + stat_dhanar + stat_hikma + stat_nedia)\n",
        "rata_rata_nilai_kal = (kal_shafira + kal_amanda + kal_aditya + kal_nedia + kal_widya + kal_hanif + kal_andi + kal_dhanar + kal_hikma) / 9\n",
        "rata_rata_nilai_stat = (stat_shafira + stat_amanda + stat_aditya + stat_nedia + stat_widya + stat_hanif + stat_andi + stat_dhanar + stat_hikma) / 9\n",
        "\n",
        "print(\"Program untuk menampilkan data-data pada tabel:\")\n",
        "print(\"\")\n",
        "print(\"1. Rata-rata nilai Shafira pada kedua mata kuliah: = \" + str(rata_rata_nilai_shafira))\n",
        "print(\"2. Jumlah nilai Hanif dan Andi untuk semua mata kuliah = \" + str(jumlah_nilai_hanif + jumlah_nilai_andi))\n",
        "print(\"3. a. Rata-rata nilai Widya, Dhanar, Hikma, dan Nedia pada mata kuliah Kalkulus 1 = \" + str(jumlah_nilai_kal_widya_dhanar_hikma_nedia / 4))\n",
        "print(\"   b. Rata-rata nilai Widya, Dhanar, Hikma, dan Nedia pada mata kuliah Metode Statistika =\" + str(jumlah_nilai_stat_widya_dhanar_hikma_nedia / 4))\n",
        "print(\"4. Rata-rata nilai mata kuliah Kalkulus 1 untuk semua mahasiswa = \" + str(rata_rata_nilai_kal))\n",
        "print(\"5. Rata-rata nilai mata kuliah Metode Statistika untuk semua mahasiwa = \" + str(rata_rata_nilai_stat))\n"
      ],
      "metadata": {
        "colab": {
          "base_uri": "https://localhost:8080/"
        },
        "id": "OvWpN2vIIMEk",
        "outputId": "fd3495c5-1d09-4a91-bcfd-1eb584ec17da"
      },
      "execution_count": null,
      "outputs": [
        {
          "output_type": "stream",
          "name": "stdout",
          "text": [
            "Program untuk menampilkan data-data pada tabel:\n",
            "\n",
            "1. Rata-rata nilai Shafira pada kedua mata kuliah: = 80.0\n",
            "2. Jumlah nilai Hanif dan Andi untuk semua mata kuliah = 310\n",
            "3. a. Rata-rata nilai Widya, Dhanar, Hikma, dan Nedia pada mata kuliah Kalkulus 1 = 86.25\n",
            "   b. Rata-rata nilai Widya, Dhanar, Hikma, dan Nedia pada mata kuliah Metode Statistika =81.25\n",
            "4. Rata-rata nilai mata kuliah Kalkulus 1 untuk semua mahasiswa = 81.11111111111111\n",
            "5. Rata-rata nilai mata kuliah Metode Statistika untuk semua mahasiwa = 81.66666666666667\n"
          ]
        }
      ]
    },
    {
      "cell_type": "markdown",
      "source": [
        "## Weekly Exercise 3"
      ],
      "metadata": {
        "id": "-VlVYt5VSBUy"
      }
    },
    {
      "cell_type": "code",
      "source": [
        "# Membuat sebuah program untuk menampilkan data\n",
        "\n",
        "lama_dwi_kerja = 10\n",
        "jam_dwi_kerja = 8\n",
        "gaji_per_jam = 30000\n",
        "hari_kerja_per_bulan = 20\n",
        "izin_agustus = 3\n",
        "tunjangan = 0.1\n",
        "lama_lembur = 5\n",
        "upah_lembur = 10000\n",
        "\n",
        "\n",
        "gaji_per_hari = gaji_per_jam * jam_dwi_kerja\n",
        "gaji_bulan_agustus = gaji_per_hari * (hari_kerja_per_bulan - izin_agustus)\n",
        "tunjangan_agustus = (gaji_bulan_agustus * tunjangan)\n",
        "lembur_agustus = lama_lembur * upah_lembur\n",
        "\n",
        "print(\"1. Gaji pada bulan Agustus jika Dwi tidak masuk kerja selama 3 hari = Rp\" + str(gaji_bulan_agustus))\n",
        "print(\"2. Jumlah tunjangan yang diterima Dwi pada bulan Agustus = Rp\" + str(tunjangan_agustus))\n",
        "print(\"3. Jumlah gaji total yang diterima Dwi pada bulan Agustus = Rp\" + str(gaji_bulan_agustus + tunjangan_agustus + lembur_agustus))"
      ],
      "metadata": {
        "colab": {
          "base_uri": "https://localhost:8080/"
        },
        "id": "vNRPK6xgK3-Q",
        "outputId": "1d71a64e-c3a5-42b4-c25a-f48e208e70bd"
      },
      "execution_count": null,
      "outputs": [
        {
          "output_type": "stream",
          "name": "stdout",
          "text": [
            "1. Gaji pada bulan Agustus jika Dwi tidak masuk kerja selama 3 hari = Rp4080000\n",
            "2. Jumlah tunjangan yang diterima Dwi pada bulan Agustus = Rp408000.0\n",
            "3. Jumlah gaji total yang diterima Dwi pada bulan Agustus = Rp4538000.0\n"
          ]
        }
      ]
    },
    {
      "cell_type": "code",
      "source": [],
      "metadata": {
        "id": "KPEfu74-BIsK"
      },
      "execution_count": null,
      "outputs": []
    }
  ]
}
